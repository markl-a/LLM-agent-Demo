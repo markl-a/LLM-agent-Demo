{
  "cells": [
    {
      "cell_type": "markdown",
      "id": "9f853e403eabd4f8",
      "metadata": {
        "collapsed": false,
        "jupyter": {
          "outputs_hidden": false
        },
        "id": "9f853e403eabd4f8"
      },
      "source": [
        "\n",
        "這個是 [Langgraph - SQL Agent的教學中文化](https://langchain-ai.github.io/langgraph/tutorials/sql-agent/)，可根據你自己的需求修改。\n",
        "\n",
        "後面的評估方面使用官方的案例跑是不能動的，所以相關的部分我就先刪掉了，貌似那邊還是有點bug，不過這個範例可以很直觀地看到大概RAG 是怎麼運作的。\n",
        "\n",
        "貌似使用langsmith track 運作的過程還是有點bug的\n",
        "# 一個與 SQL 資料庫交互的 Agent\n",
        "\n",
        "在本範例中，我們將逐步介紹如何構建一個能夠回答有關 SQL 資料庫問題的 Agent。\n",
        "\n",
        "從高層次來看，這個 Agent 將會：\n",
        "1. 從資料庫中獲取可用的表格\n",
        "2. 判斷哪些表格與問題相關\n",
        "3. 獲取相關表格的 DDL（數據定義語言）\n",
        "4. 根據問題和從 DDL 獲取的信息生成查詢\n",
        "5. 使用大型語言模型 (LLM) 再次檢查查詢是否有常見錯誤\n",
        "6. 執行查詢並返回結果\n",
        "7. 根據結果制定回覆\n",
        "8. 根據結果制定回覆\n",
        "\n",
        "端到端的流程如下所示:\n",
        "\n",
        "![](https://github.com/langchain-ai/langgraph/blob/main/examples/tutorials/sql-agent-diagram.png?raw=1)"
      ]
    },
    {
      "cell_type": "markdown",
      "id": "b5a87813ffe7e4d2",
      "metadata": {
        "collapsed": false,
        "jupyter": {
          "outputs_hidden": false
        },
        "id": "b5a87813ffe7e4d2"
      },
      "source": [
        "## 設定環境\n",
        "\n",
        "我們將設定 OpenAI 的環境參數，以及增加 [LangSmith](https://smith.langchain.com) 的追蹤設定。\n"
      ]
    },
    {
      "cell_type": "code",
      "execution_count": 1,
      "id": "6c05a600f1afb5b6",
      "metadata": {
        "ExecuteTime": {
          "end_time": "2024-06-12T21:24:00.532147Z",
          "start_time": "2024-06-12T21:24:00.526043Z"
        },
        "jupyter": {
          "outputs_hidden": false
        },
        "id": "6c05a600f1afb5b6"
      },
      "outputs": [],
      "source": [
        "import os\n",
        "\n",
        "os.environ[\"OPENAI_API_KEY\"] = \"請換成你的key\"\n",
        "os.environ[\"LANGSMITH_API_KEY\"] = \"請換成你的key\"\n",
        "os.environ[\"LANGCHAIN_TRACING_V2\"] = \"true\"\n",
        "!export LANGCHAIN_API_KEY= \"請換成你的key\""
      ]
    },
    {
      "cell_type": "code",
      "execution_count": 2,
      "id": "04d73c39-1cc9-4b94-a454-b0a4f604713c",
      "metadata": {
        "id": "04d73c39-1cc9-4b94-a454-b0a4f604713c"
      },
      "outputs": [],
      "source": [
        "os.environ[\"LANGCHAIN_PROJECT\"] = \"sql-agent\""
      ]
    },
    {
      "cell_type": "markdown",
      "id": "877d8c85825089d8",
      "metadata": {
        "collapsed": false,
        "jupyter": {
          "outputs_hidden": false
        },
        "id": "877d8c85825089d8"
      },
      "source": [
        "## 配置數據庫\n",
        "\n",
        "在本教程中，我們將創建一個 SQLite 數據庫。SQLite 是一個輕量級數據庫，易於設置和使用。我們將加載 `chinook` 數據庫，[這是一個呈現數字媒體商店的範例集資料庫。](https://www.sqlitetutorial.net/sqlite-sample-database/)\n",
        "\n",
        "為了方便起見，我們已將數據庫（`Chinook.db`）託管在公開的 GCS 頁面上。\n"
      ]
    },
    {
      "cell_type": "code",
      "execution_count": 3,
      "id": "64b0bf1b14c2e902",
      "metadata": {
        "ExecuteTime": {
          "end_time": "2024-06-12T21:24:09.918436Z",
          "start_time": "2024-06-12T21:24:09.608563Z"
        },
        "jupyter": {
          "outputs_hidden": false
        },
        "id": "64b0bf1b14c2e902",
        "outputId": "77fb49a3-0279-4c97-e4fc-d6b2ca876592",
        "colab": {
          "base_uri": "https://localhost:8080/"
        }
      },
      "outputs": [
        {
          "output_type": "stream",
          "name": "stdout",
          "text": [
            "File downloaded and saved as Chinook.db\n"
          ]
        }
      ],
      "source": [
        "import requests\n",
        "\n",
        "url = \"https://storage.googleapis.com/benchmarks-artifacts/chinook/Chinook.db\"\n",
        "\n",
        "response = requests.get(url)\n",
        "\n",
        "if response.status_code == 200:\n",
        "    # Open a local file in binary write mode\n",
        "    with open(\"Chinook.db\", \"wb\") as file:\n",
        "        # Write the content of the response (the file) to the local file\n",
        "        file.write(response.content)\n",
        "    print(\"File downloaded and saved as Chinook.db\")\n",
        "else:\n",
        "    print(f\"Failed to download the file. Status code: {response.status_code}\")"
      ]
    },
    {
      "cell_type": "markdown",
      "id": "61c8304aa5ceb6a5",
      "metadata": {
        "collapsed": false,
        "jupyter": {
          "outputs_hidden": false
        },
        "id": "61c8304aa5ceb6a5"
      },
      "source": [
        "\n",
        "\n",
        "我們將使用 `langchain_community` 套件中提供的便捷 SQL 數據庫包裝器來與數據庫交互。這個包裝器提供了一個簡化的接口，讓我們可以輕鬆地執行 SQL 查詢並獲取結果。此外，在本範例的後續部分，我們還將使用 `langchain_openai` 套件與 OpenAI API 的語言模型進行互動。\n"
      ]
    },
    {
      "cell_type": "code",
      "execution_count": 4,
      "id": "a60191bd3489f278",
      "metadata": {
        "ExecuteTime": {
          "end_time": "2024-06-12T21:24:14.663745Z",
          "start_time": "2024-06-12T21:24:13.527958Z"
        },
        "jupyter": {
          "outputs_hidden": false
        },
        "id": "a60191bd3489f278"
      },
      "outputs": [],
      "source": [
        "%%capture --no-stderr --no-display\n",
        "!pip install langgraph langchain_community langchain_openai"
      ]
    },
    {
      "cell_type": "code",
      "execution_count": 5,
      "id": "1f1e1f4f86ed54",
      "metadata": {
        "ExecuteTime": {
          "end_time": "2024-06-12T21:24:15.891582Z",
          "start_time": "2024-06-12T21:24:15.289782Z"
        },
        "jupyter": {
          "outputs_hidden": false
        },
        "id": "1f1e1f4f86ed54",
        "outputId": "0d5a7f2f-c358-445d-c5ff-8d401ec701c5",
        "colab": {
          "base_uri": "https://localhost:8080/",
          "height": 89
        }
      },
      "outputs": [
        {
          "output_type": "stream",
          "name": "stdout",
          "text": [
            "sqlite\n",
            "['Album', 'Artist', 'Customer', 'Employee', 'Genre', 'Invoice', 'InvoiceLine', 'MediaType', 'Playlist', 'PlaylistTrack', 'Track']\n"
          ]
        },
        {
          "output_type": "execute_result",
          "data": {
            "text/plain": [
              "\"[(1, 'AC/DC'), (2, 'Accept'), (3, 'Aerosmith'), (4, 'Alanis Morissette'), (5, 'Alice In Chains'), (6, 'Antônio Carlos Jobim'), (7, 'Apocalyptica'), (8, 'Audioslave'), (9, 'BackBeat'), (10, 'Billy Cobham')]\""
            ],
            "application/vnd.google.colaboratory.intrinsic+json": {
              "type": "string"
            }
          },
          "metadata": {},
          "execution_count": 5
        }
      ],
      "source": [
        "from langchain_community.utilities import SQLDatabase\n",
        "\n",
        "db = SQLDatabase.from_uri(\"sqlite:///Chinook.db\")\n",
        "print(db.dialect)\n",
        "print(db.get_usable_table_names())\n",
        "db.run(\"SELECT * FROM Artist LIMIT 10;\")"
      ]
    },
    {
      "cell_type": "markdown",
      "id": "6959e93141d8099c",
      "metadata": {
        "collapsed": false,
        "jupyter": {
          "outputs_hidden": false
        },
        "id": "6959e93141d8099c"
      },
      "source": [
        "\n",
        "\n",
        "## 工具函數\n",
        "\n",
        "我們將定義一些工具函數來協助我們實現agent。具體來說，我們會將一個 `ToolNode` 包裝起來，加入一個備援機制來處理錯誤，並將錯誤訊息呈現給agent。\n"
      ]
    },
    {
      "cell_type": "code",
      "execution_count": 6,
      "id": "deae8460e4cf72b1",
      "metadata": {
        "ExecuteTime": {
          "end_time": "2024-06-12T21:24:17.557848Z",
          "start_time": "2024-06-12T21:24:17.508550Z"
        },
        "jupyter": {
          "outputs_hidden": false
        },
        "id": "deae8460e4cf72b1"
      },
      "outputs": [],
      "source": [
        "from typing import Any\n",
        "\n",
        "from langchain_core.messages import ToolMessage\n",
        "from langchain_core.runnables import RunnableLambda, RunnableWithFallbacks\n",
        "from langgraph.prebuilt import ToolNode\n",
        "\n",
        "\n",
        "def create_tool_node_with_fallback(tools: list) -> RunnableWithFallbacks[Any, dict]:\n",
        "    \"\"\"\n",
        "    Create a ToolNode with a fallback to handle errors and surface them to the agent.\n",
        "    \"\"\"\n",
        "    return ToolNode(tools).with_fallbacks(\n",
        "        [RunnableLambda(handle_tool_error)], exception_key=\"error\"\n",
        "    )\n",
        "\n",
        "\n",
        "def handle_tool_error(state) -> dict:\n",
        "    error = state.get(\"error\")\n",
        "    tool_calls = state[\"messages\"][-1].tool_calls\n",
        "    return {\n",
        "        \"messages\": [\n",
        "            ToolMessage(\n",
        "                content=f\"Error: {repr(error)}\\n please fix your mistakes.\",\n",
        "                tool_call_id=tc[\"id\"],\n",
        "            )\n",
        "            for tc in tool_calls\n",
        "        ]\n",
        "    }"
      ]
    },
    {
      "cell_type": "markdown",
      "id": "d0196604f8cbb07b",
      "metadata": {
        "collapsed": false,
        "jupyter": {
          "outputs_hidden": false
        },
        "id": "d0196604f8cbb07b"
      },
      "source": [
        "\n",
        "\n",
        "## 為agent定義工具\n",
        "\n",
        "我們將定義幾個工具，讓agent用來與數據庫進行交互。\n",
        "\n",
        "1. `list_tables_tool`：從數據庫中獲取可用的表格列表\n",
        "2. `get_schema_tool`：獲取表格的 DDL（數據定義語言）信息\n",
        "3. `db_query_tool`：執行查詢並獲取結果，或者在查詢失敗時返回錯誤訊息\n",
        "\n",
        "對於前兩個工具，我們將從 `langchain_community` 套件中同樣提供的 `SQLDatabaseToolkit` 中獲取它們。\n"
      ]
    },
    {
      "cell_type": "code",
      "execution_count": 7,
      "id": "452d049a3d2a4406",
      "metadata": {
        "ExecuteTime": {
          "end_time": "2024-06-12T20:18:15.838940Z",
          "start_time": "2024-06-12T20:18:15.734199Z"
        },
        "jupyter": {
          "outputs_hidden": false
        },
        "id": "452d049a3d2a4406",
        "outputId": "630814cb-e372-4602-86a1-ca3ed83b62a8",
        "colab": {
          "base_uri": "https://localhost:8080/"
        }
      },
      "outputs": [
        {
          "output_type": "stream",
          "name": "stdout",
          "text": [
            "Album, Artist, Customer, Employee, Genre, Invoice, InvoiceLine, MediaType, Playlist, PlaylistTrack, Track\n",
            "\n",
            "CREATE TABLE \"Artist\" (\n",
            "\t\"ArtistId\" INTEGER NOT NULL, \n",
            "\t\"Name\" NVARCHAR(120), \n",
            "\tPRIMARY KEY (\"ArtistId\")\n",
            ")\n",
            "\n",
            "/*\n",
            "3 rows from Artist table:\n",
            "ArtistId\tName\n",
            "1\tAC/DC\n",
            "2\tAccept\n",
            "3\tAerosmith\n",
            "*/\n"
          ]
        }
      ],
      "source": [
        "from langchain_community.agent_toolkits import SQLDatabaseToolkit\n",
        "from langchain_openai import ChatOpenAI\n",
        "\n",
        "toolkit = SQLDatabaseToolkit(db=db, llm=ChatOpenAI(model=\"gpt-4o\"))\n",
        "tools = toolkit.get_tools()\n",
        "\n",
        "list_tables_tool = next(tool for tool in tools if tool.name == \"sql_db_list_tables\")\n",
        "get_schema_tool = next(tool for tool in tools if tool.name == \"sql_db_schema\")\n",
        "\n",
        "print(list_tables_tool.invoke(\"\"))\n",
        "\n",
        "print(get_schema_tool.invoke(\"Artist\"))"
      ]
    },
    {
      "cell_type": "markdown",
      "id": "c16359edada327fa",
      "metadata": {
        "collapsed": false,
        "jupyter": {
          "outputs_hidden": false
        },
        "id": "c16359edada327fa"
      },
      "source": [
        "\n",
        "第三個工具將由我們手動定義。對於 `db_query_tool`，我們將對數據庫執行查詢並返回結果。\n"
      ]
    },
    {
      "cell_type": "code",
      "execution_count": 8,
      "id": "f7eb708ecb4c7cfc",
      "metadata": {
        "ExecuteTime": {
          "end_time": "2024-06-12T20:39:35.759834Z",
          "start_time": "2024-06-12T20:39:35.740255Z"
        },
        "jupyter": {
          "outputs_hidden": false
        },
        "id": "f7eb708ecb4c7cfc",
        "outputId": "e14dcd99-2049-46af-d098-e59d6679f7ae",
        "colab": {
          "base_uri": "https://localhost:8080/"
        }
      },
      "outputs": [
        {
          "output_type": "stream",
          "name": "stdout",
          "text": [
            "[(1, 'AC/DC'), (2, 'Accept'), (3, 'Aerosmith'), (4, 'Alanis Morissette'), (5, 'Alice In Chains'), (6, 'Antônio Carlos Jobim'), (7, 'Apocalyptica'), (8, 'Audioslave'), (9, 'BackBeat'), (10, 'Billy Cobham')]\n"
          ]
        }
      ],
      "source": [
        "from langchain_core.tools import tool\n",
        "\n",
        "\n",
        "@tool\n",
        "def db_query_tool(query: str) -> str:\n",
        "    \"\"\"\n",
        "    Execute a SQL query against the database and get back the result.\n",
        "    If the query is not correct, an error message will be returned.\n",
        "    If an error is returned, rewrite the query, check the query, and try again.\n",
        "    \"\"\"\n",
        "    result = db.run_no_throw(query)\n",
        "    if not result:\n",
        "        return \"Error: Query failed. Please rewrite your query and try again.\"\n",
        "    return result\n",
        "\n",
        "\n",
        "print(db_query_tool.invoke(\"SELECT * FROM Artist LIMIT 10;\"))"
      ]
    },
    {
      "cell_type": "markdown",
      "id": "f1d66db8b8621639",
      "metadata": {
        "collapsed": false,
        "jupyter": {
          "outputs_hidden": false
        },
        "id": "f1d66db8b8621639"
      },
      "source": [
        "\n",
        "\n",
        "雖然嚴格來說這並不算是一個工具，但我們將提示一個大型語言模型 (LLM) 來檢查查詢中常見的錯誤，並在之後將其作為一個節點添加到工作流程中。\n"
      ]
    },
    {
      "cell_type": "code",
      "execution_count": 9,
      "id": "293017e8f05ac2b3",
      "metadata": {
        "ExecuteTime": {
          "end_time": "2024-06-12T20:18:19.658322Z",
          "start_time": "2024-06-12T20:18:18.756256Z"
        },
        "jupyter": {
          "outputs_hidden": false
        },
        "id": "293017e8f05ac2b3",
        "outputId": "42c574ef-8b14-4c91-c079-8eb744c6b282",
        "colab": {
          "base_uri": "https://localhost:8080/"
        }
      },
      "outputs": [
        {
          "output_type": "execute_result",
          "data": {
            "text/plain": [
              "AIMessage(content='', additional_kwargs={'tool_calls': [{'id': 'call_Pngfm02YTGWTAhUXuGvlYmBc', 'function': {'arguments': '{\"query\":\"SELECT * FROM Artist LIMIT 10;\"}', 'name': 'db_query_tool'}, 'type': 'function'}], 'refusal': None}, response_metadata={'token_usage': {'completion_tokens': 20, 'prompt_tokens': 221, 'total_tokens': 241}, 'model_name': 'gpt-4o-2024-05-13', 'system_fingerprint': 'fp_3aa7262c27', 'finish_reason': 'stop', 'logprobs': None}, id='run-e76988a5-2cab-4799-a530-39422e1bac2d-0', tool_calls=[{'name': 'db_query_tool', 'args': {'query': 'SELECT * FROM Artist LIMIT 10;'}, 'id': 'call_Pngfm02YTGWTAhUXuGvlYmBc', 'type': 'tool_call'}], usage_metadata={'input_tokens': 221, 'output_tokens': 20, 'total_tokens': 241})"
            ]
          },
          "metadata": {},
          "execution_count": 9
        }
      ],
      "source": [
        "from langchain_core.prompts import ChatPromptTemplate\n",
        "\n",
        "query_check_system = \"\"\"You are a SQL expert with a strong attention to detail.\n",
        "Double check the SQLite query for common mistakes, including:\n",
        "- Using NOT IN with NULL values\n",
        "- Using UNION when UNION ALL should have been used\n",
        "- Using BETWEEN for exclusive ranges\n",
        "- Data type mismatch in predicates\n",
        "- Properly quoting identifiers\n",
        "- Using the correct number of arguments for functions\n",
        "- Casting to the correct data type\n",
        "- Using the proper columns for joins\n",
        "\n",
        "If there are any of the above mistakes, rewrite the query. If there are no mistakes, just reproduce the original query.\n",
        "\n",
        "You will call the appropriate tool to execute the query after running this check.\"\"\"\n",
        "\n",
        "query_check_prompt = ChatPromptTemplate.from_messages(\n",
        "    [(\"system\", query_check_system), (\"placeholder\", \"{messages}\")]\n",
        ")\n",
        "query_check = query_check_prompt | ChatOpenAI(model=\"gpt-4o\", temperature=0).bind_tools(\n",
        "    [db_query_tool], tool_choice=\"required\"\n",
        ")\n",
        "\n",
        "query_check.invoke({\"messages\": [(\"user\", \"SELECT * FROM Artist LIMIT 10;\")]})"
      ]
    },
    {
      "cell_type": "markdown",
      "id": "66f88452151e8188",
      "metadata": {
        "collapsed": false,
        "jupyter": {
          "outputs_hidden": false
        },
        "id": "66f88452151e8188"
      },
      "source": [
        "\n",
        "## 定義工作流程\n",
        "\n",
        "接著，我們將為 agent 定義工作流程。agent 會首先強制調用 `list_tables_tool` 來從數據庫中獲取可用的表格列表，然後按照教程開頭提到的步驟執行。\n"
      ]
    },
    {
      "cell_type": "code",
      "execution_count": 10,
      "id": "90d04ceea7b6b010",
      "metadata": {
        "ExecuteTime": {
          "end_time": "2024-06-12T20:21:09.799829Z",
          "start_time": "2024-06-12T20:21:09.765928Z"
        },
        "jupyter": {
          "outputs_hidden": false
        },
        "id": "90d04ceea7b6b010"
      },
      "outputs": [],
      "source": [
        "from typing import Annotated, Literal\n",
        "\n",
        "from langchain_core.messages import AIMessage\n",
        "from langchain_core.pydantic_v1 import BaseModel, Field\n",
        "from langchain_openai import ChatOpenAI\n",
        "from typing_extensions import TypedDict\n",
        "\n",
        "from langgraph.graph import END, StateGraph, START\n",
        "from langgraph.graph.message import AnyMessage, add_messages\n",
        "\n",
        "\n",
        "# Define the state for the agent\n",
        "class State(TypedDict):\n",
        "    messages: Annotated[list[AnyMessage], add_messages]\n",
        "\n",
        "\n",
        "# Define a new graph\n",
        "workflow = StateGraph(State)\n",
        "\n",
        "\n",
        "# Add a node for the first tool call\n",
        "def first_tool_call(state: State) -> dict[str, list[AIMessage]]:\n",
        "    return {\n",
        "        \"messages\": [\n",
        "            AIMessage(\n",
        "                content=\"\",\n",
        "                tool_calls=[\n",
        "                    {\n",
        "                        \"name\": \"sql_db_list_tables\",\n",
        "                        \"args\": {},\n",
        "                        \"id\": \"tool_abcd123\",\n",
        "                    }\n",
        "                ],\n",
        "            )\n",
        "        ]\n",
        "    }\n",
        "\n",
        "\n",
        "def model_check_query(state: State) -> dict[str, list[AIMessage]]:\n",
        "    \"\"\"\n",
        "    Use this tool to double-check if your query is correct before executing it.\n",
        "    \"\"\"\n",
        "    return {\"messages\": [query_check.invoke({\"messages\": [state[\"messages\"][-1]]})]}\n",
        "\n",
        "\n",
        "workflow.add_node(\"first_tool_call\", first_tool_call)\n",
        "\n",
        "# Add nodes for the first two tools\n",
        "workflow.add_node(\n",
        "    \"list_tables_tool\", create_tool_node_with_fallback([list_tables_tool])\n",
        ")\n",
        "workflow.add_node(\"get_schema_tool\", create_tool_node_with_fallback([get_schema_tool]))\n",
        "\n",
        "# Add a node for a model to choose the relevant tables based on the question and available tables\n",
        "model_get_schema = ChatOpenAI(model=\"gpt-4o\", temperature=0).bind_tools(\n",
        "    [get_schema_tool]\n",
        ")\n",
        "workflow.add_node(\n",
        "    \"model_get_schema\",\n",
        "    lambda state: {\n",
        "        \"messages\": [model_get_schema.invoke(state[\"messages\"])],\n",
        "    },\n",
        ")\n",
        "\n",
        "\n",
        "# Describe a tool to represent the end state\n",
        "class SubmitFinalAnswer(BaseModel):\n",
        "    \"\"\"Submit the final answer to the user based on the query results.\"\"\"\n",
        "\n",
        "    final_answer: str = Field(..., description=\"The final answer to the user\")\n",
        "\n",
        "\n",
        "# Add a node for a model to generate a query based on the question and schema\n",
        "query_gen_system = \"\"\"You are a SQL expert with a strong attention to detail.\n",
        "\n",
        "Given an input question, output a syntactically correct SQLite query to run, then look at the results of the query and return the answer.\n",
        "\n",
        "DO NOT call any tool besides SubmitFinalAnswer to submit the final answer.\n",
        "\n",
        "When generating the query:\n",
        "\n",
        "Output the SQL query that answers the input question without a tool call.\n",
        "\n",
        "Unless the user specifies a specific number of examples they wish to obtain, always limit your query to at most 5 results.\n",
        "You can order the results by a relevant column to return the most interesting examples in the database.\n",
        "Never query for all the columns from a specific table, only ask for the relevant columns given the question.\n",
        "\n",
        "If you get an error while executing a query, rewrite the query and try again.\n",
        "\n",
        "If you get an empty result set, you should try to rewrite the query to get a non-empty result set.\n",
        "NEVER make stuff up if you don't have enough information to answer the query... just say you don't have enough information.\n",
        "\n",
        "If you have enough information to answer the input question, simply invoke the appropriate tool to submit the final answer to the user.\n",
        "\n",
        "DO NOT make any DML statements (INSERT, UPDATE, DELETE, DROP etc.) to the database.\"\"\"\n",
        "query_gen_prompt = ChatPromptTemplate.from_messages(\n",
        "    [(\"system\", query_gen_system), (\"placeholder\", \"{messages}\")]\n",
        ")\n",
        "query_gen = query_gen_prompt | ChatOpenAI(model=\"gpt-4o\", temperature=0).bind_tools(\n",
        "    [SubmitFinalAnswer]\n",
        ")\n",
        "\n",
        "\n",
        "def query_gen_node(state: State):\n",
        "    message = query_gen.invoke(state)\n",
        "\n",
        "    # Sometimes, the LLM will hallucinate and call the wrong tool. We need to catch this and return an error message.\n",
        "    tool_messages = []\n",
        "    if message.tool_calls:\n",
        "        for tc in message.tool_calls:\n",
        "            if tc[\"name\"] != \"SubmitFinalAnswer\":\n",
        "                tool_messages.append(\n",
        "                    ToolMessage(\n",
        "                        content=f\"Error: The wrong tool was called: {tc['name']}. Please fix your mistakes. Remember to only call SubmitFinalAnswer to submit the final answer. Generated queries should be outputted WITHOUT a tool call.\",\n",
        "                        tool_call_id=tc[\"id\"],\n",
        "                    )\n",
        "                )\n",
        "    else:\n",
        "        tool_messages = []\n",
        "    return {\"messages\": [message] + tool_messages}\n",
        "\n",
        "\n",
        "workflow.add_node(\"query_gen\", query_gen_node)\n",
        "\n",
        "# Add a node for the model to check the query before executing it\n",
        "workflow.add_node(\"correct_query\", model_check_query)\n",
        "\n",
        "# Add node for executing the query\n",
        "workflow.add_node(\"execute_query\", create_tool_node_with_fallback([db_query_tool]))\n",
        "\n",
        "\n",
        "# Define a conditional edge to decide whether to continue or end the workflow\n",
        "def should_continue(state: State) -> Literal[END, \"correct_query\", \"query_gen\"]:\n",
        "    messages = state[\"messages\"]\n",
        "    last_message = messages[-1]\n",
        "    # If there is a tool call, then we finish\n",
        "    if getattr(last_message, \"tool_calls\", None):\n",
        "        return END\n",
        "    if last_message.content.startswith(\"Error:\"):\n",
        "        return \"query_gen\"\n",
        "    else:\n",
        "        return \"correct_query\"\n",
        "\n",
        "\n",
        "# Specify the edges between the nodes\n",
        "workflow.add_edge(START, \"first_tool_call\")\n",
        "workflow.add_edge(\"first_tool_call\", \"list_tables_tool\")\n",
        "workflow.add_edge(\"list_tables_tool\", \"model_get_schema\")\n",
        "workflow.add_edge(\"model_get_schema\", \"get_schema_tool\")\n",
        "workflow.add_edge(\"get_schema_tool\", \"query_gen\")\n",
        "workflow.add_conditional_edges(\n",
        "    \"query_gen\",\n",
        "    should_continue,\n",
        ")\n",
        "workflow.add_edge(\"correct_query\", \"execute_query\")\n",
        "workflow.add_edge(\"execute_query\", \"query_gen\")\n",
        "\n",
        "# Compile the workflow into a runnable\n",
        "app = workflow.compile()"
      ]
    },
    {
      "cell_type": "markdown",
      "id": "6c344ae086ba8d22",
      "metadata": {
        "collapsed": false,
        "jupyter": {
          "outputs_hidden": false
        },
        "id": "6c344ae086ba8d22"
      },
      "source": [
        "## 流程圖表化"
      ]
    },
    {
      "cell_type": "code",
      "execution_count": 11,
      "id": "4f200d1813897000",
      "metadata": {
        "ExecuteTime": {
          "end_time": "2024-06-12T20:21:11.813905Z",
          "start_time": "2024-06-12T20:21:11.712945Z"
        },
        "jupyter": {
          "outputs_hidden": false
        },
        "id": "4f200d1813897000",
        "outputId": "54dc4514-9005-4e25-e203-125614f05d5a",
        "colab": {
          "base_uri": "https://localhost:8080/",
          "height": 656
        }
      },
      "outputs": [
        {
          "output_type": "display_data",
          "data": {
            "image/jpeg": "[encoded data removed]",
            "text/plain": [
              "<IPython.core.display.Image object>"
            ]
          },
          "metadata": {}
        }
      ],
      "source": [
        "from IPython.display import Image, display\n",
        "from langchain_core.runnables.graph import MermaidDrawMethod\n",
        "\n",
        "display(\n",
        "    Image(\n",
        "        app.get_graph().draw_mermaid_png(\n",
        "            draw_method=MermaidDrawMethod.API,\n",
        "        )\n",
        "    )\n",
        ")"
      ]
    },
    {
      "cell_type": "markdown",
      "id": "bdf78dc68548522c",
      "metadata": {
        "collapsed": false,
        "jupyter": {
          "outputs_hidden": false
        },
        "id": "bdf78dc68548522c"
      },
      "source": [
        "## 運行 Agent"
      ]
    },
    {
      "cell_type": "code",
      "execution_count": 12,
      "id": "85958809-03c5-4e52-97cc-e7c0ae986f60",
      "metadata": {
        "id": "85958809-03c5-4e52-97cc-e7c0ae986f60",
        "outputId": "2f712f75-b468-47dc-bb40-4de951da7d05",
        "colab": {
          "base_uri": "https://localhost:8080/",
          "height": 35
        }
      },
      "outputs": [
        {
          "output_type": "execute_result",
          "data": {
            "text/plain": [
              "'The sales agent who made the most in sales in 2009 is Steve Johnson with a total of $164.34.'"
            ],
            "application/vnd.google.colaboratory.intrinsic+json": {
              "type": "string"
            }
          },
          "metadata": {},
          "execution_count": 12
        }
      ],
      "source": [
        "import json\n",
        "\n",
        "messages = app.invoke(\n",
        "    {\"messages\": [(\"user\", \"Which sales agent made the most in sales in 2009?\")]}\n",
        ")\n",
        "json_str = messages[\"messages\"][-1].additional_kwargs[\"tool_calls\"][0][\"function\"][\n",
        "    \"arguments\"\n",
        "]\n",
        "json.loads(json_str)[\"final_answer\"]"
      ]
    },
    {
      "cell_type": "code",
      "execution_count": 13,
      "id": "3bf7709f-500c-4f28-bb85-dda317286c63",
      "metadata": {
        "id": "3bf7709f-500c-4f28-bb85-dda317286c63",
        "colab": {
          "base_uri": "https://localhost:8080/"
        },
        "outputId": "7b7a69d3-0867-419e-ba45-f891d4174685"
      },
      "outputs": [
        {
          "output_type": "stream",
          "name": "stdout",
          "text": [
            "{'first_tool_call': {'messages': [AIMessage(content='', tool_calls=[{'name': 'sql_db_list_tables', 'args': {}, 'id': 'tool_abcd123', 'type': 'tool_call'}])]}}\n",
            "{'list_tables_tool': {'messages': [ToolMessage(content='Album, Artist, Customer, Employee, Genre, Invoice, InvoiceLine, MediaType, Playlist, PlaylistTrack, Track', name='sql_db_list_tables', tool_call_id='tool_abcd123')]}}\n",
            "{'model_get_schema': {'messages': [AIMessage(content='', additional_kwargs={'tool_calls': [{'id': 'call_kkvrsZdG2I4isi9Lpc6Xsghw', 'function': {'arguments': '{\"table_names\":\"Employee, Invoice\"}', 'name': 'sql_db_schema'}, 'type': 'function'}], 'refusal': None}, response_metadata={'token_usage': {'completion_tokens': 18, 'prompt_tokens': 177, 'total_tokens': 195}, 'model_name': 'gpt-4o-2024-05-13', 'system_fingerprint': 'fp_c9aa9c0491', 'finish_reason': 'tool_calls', 'logprobs': None}, id='run-9c84b9ea-46c2-40ba-9c8b-98d420bb85c5-0', tool_calls=[{'name': 'sql_db_schema', 'args': {'table_names': 'Employee, Invoice'}, 'id': 'call_kkvrsZdG2I4isi9Lpc6Xsghw', 'type': 'tool_call'}], usage_metadata={'input_tokens': 177, 'output_tokens': 18, 'total_tokens': 195})]}}\n",
            "{'get_schema_tool': {'messages': [ToolMessage(content='\\nCREATE TABLE \"Employee\" (\\n\\t\"EmployeeId\" INTEGER NOT NULL, \\n\\t\"LastName\" NVARCHAR(20) NOT NULL, \\n\\t\"FirstName\" NVARCHAR(20) NOT NULL, \\n\\t\"Title\" NVARCHAR(30), \\n\\t\"ReportsTo\" INTEGER, \\n\\t\"BirthDate\" DATETIME, \\n\\t\"HireDate\" DATETIME, \\n\\t\"Address\" NVARCHAR(70), \\n\\t\"City\" NVARCHAR(40), \\n\\t\"State\" NVARCHAR(40), \\n\\t\"Country\" NVARCHAR(40), \\n\\t\"PostalCode\" NVARCHAR(10), \\n\\t\"Phone\" NVARCHAR(24), \\n\\t\"Fax\" NVARCHAR(24), \\n\\t\"Email\" NVARCHAR(60), \\n\\tPRIMARY KEY (\"EmployeeId\"), \\n\\tFOREIGN KEY(\"ReportsTo\") REFERENCES \"Employee\" (\"EmployeeId\")\\n)\\n\\n/*\\n3 rows from Employee table:\\nEmployeeId\\tLastName\\tFirstName\\tTitle\\tReportsTo\\tBirthDate\\tHireDate\\tAddress\\tCity\\tState\\tCountry\\tPostalCode\\tPhone\\tFax\\tEmail\\n1\\tAdams\\tAndrew\\tGeneral Manager\\tNone\\t1962-02-18 00:00:00\\t2002-08-14 00:00:00\\t11120 Jasper Ave NW\\tEdmonton\\tAB\\tCanada\\tT5K 2N1\\t+1 (780) 428-9482\\t+1 (780) 428-3457\\tandrew@chinookcorp.com\\n2\\tEdwards\\tNancy\\tSales Manager\\t1\\t1958-12-08 00:00:00\\t2002-05-01 00:00:00\\t825 8 Ave SW\\tCalgary\\tAB\\tCanada\\tT2P 2T3\\t+1 (403) 262-3443\\t+1 (403) 262-3322\\tnancy@chinookcorp.com\\n3\\tPeacock\\tJane\\tSales Support Agent\\t2\\t1973-08-29 00:00:00\\t2002-04-01 00:00:00\\t1111 6 Ave SW\\tCalgary\\tAB\\tCanada\\tT2P 5M5\\t+1 (403) 262-3443\\t+1 (403) 262-6712\\tjane@chinookcorp.com\\n*/\\n\\n\\nCREATE TABLE \"Invoice\" (\\n\\t\"InvoiceId\" INTEGER NOT NULL, \\n\\t\"CustomerId\" INTEGER NOT NULL, \\n\\t\"InvoiceDate\" DATETIME NOT NULL, \\n\\t\"BillingAddress\" NVARCHAR(70), \\n\\t\"BillingCity\" NVARCHAR(40), \\n\\t\"BillingState\" NVARCHAR(40), \\n\\t\"BillingCountry\" NVARCHAR(40), \\n\\t\"BillingPostalCode\" NVARCHAR(10), \\n\\t\"Total\" NUMERIC(10, 2) NOT NULL, \\n\\tPRIMARY KEY (\"InvoiceId\"), \\n\\tFOREIGN KEY(\"CustomerId\") REFERENCES \"Customer\" (\"CustomerId\")\\n)\\n\\n/*\\n3 rows from Invoice table:\\nInvoiceId\\tCustomerId\\tInvoiceDate\\tBillingAddress\\tBillingCity\\tBillingState\\tBillingCountry\\tBillingPostalCode\\tTotal\\n1\\t2\\t2009-01-01 00:00:00\\tTheodor-Heuss-Straße 34\\tStuttgart\\tNone\\tGermany\\t70174\\t1.98\\n2\\t4\\t2009-01-02 00:00:00\\tUllevålsveien 14\\tOslo\\tNone\\tNorway\\t0171\\t3.96\\n3\\t8\\t2009-01-03 00:00:00\\tGrétrystraat 63\\tBrussels\\tNone\\tBelgium\\t1000\\t5.94\\n*/', name='sql_db_schema', tool_call_id='call_kkvrsZdG2I4isi9Lpc6Xsghw')]}}\n",
            "{'query_gen': {'messages': [AIMessage(content='', additional_kwargs={'tool_calls': [{'id': 'call_lLacCH9UDvyoiOdRC7keULQj', 'function': {'arguments': '{\"table_names\":\"Customer\"}', 'name': 'sql_db_schema'}, 'type': 'function'}], 'refusal': None}, response_metadata={'token_usage': {'completion_tokens': 16, 'prompt_tokens': 1178, 'total_tokens': 1194}, 'model_name': 'gpt-4o-2024-05-13', 'system_fingerprint': 'fp_3aa7262c27', 'finish_reason': 'tool_calls', 'logprobs': None}, id='run-96bb7c70-69a1-4b25-a9cf-cb8a75676b95-0', tool_calls=[{'name': 'sql_db_schema', 'args': {'table_names': 'Customer'}, 'id': 'call_lLacCH9UDvyoiOdRC7keULQj', 'type': 'tool_call'}], usage_metadata={'input_tokens': 1178, 'output_tokens': 16, 'total_tokens': 1194}), ToolMessage(content='Error: The wrong tool was called: sql_db_schema. Please fix your mistakes. Remember to only call SubmitFinalAnswer to submit the final answer. Generated queries should be outputted WITHOUT a tool call.', id='3537403d-1349-4961-8fb2-d96527d08957', tool_call_id='call_lLacCH9UDvyoiOdRC7keULQj')]}}\n",
            "{'query_gen': {'messages': [AIMessage(content='', additional_kwargs={'tool_calls': [{'id': 'call_aeXZpE42JpfNGbJDRJPT4OH8', 'function': {'arguments': '{\"table_names\":\"Customer\"}', 'name': 'sql_db_schema'}, 'type': 'function'}], 'refusal': None}, response_metadata={'token_usage': {'completion_tokens': 16, 'prompt_tokens': 1244, 'total_tokens': 1260}, 'model_name': 'gpt-4o-2024-05-13', 'system_fingerprint': 'fp_3aa7262c27', 'finish_reason': 'tool_calls', 'logprobs': None}, id='run-c1d4cfcc-0083-4455-b466-3231096b2bf5-0', tool_calls=[{'name': 'sql_db_schema', 'args': {'table_names': 'Customer'}, 'id': 'call_aeXZpE42JpfNGbJDRJPT4OH8', 'type': 'tool_call'}], usage_metadata={'input_tokens': 1244, 'output_tokens': 16, 'total_tokens': 1260}), ToolMessage(content='Error: The wrong tool was called: sql_db_schema. Please fix your mistakes. Remember to only call SubmitFinalAnswer to submit the final answer. Generated queries should be outputted WITHOUT a tool call.', id='785defd0-99ec-460d-b18d-2541e9d9d034', tool_call_id='call_aeXZpE42JpfNGbJDRJPT4OH8')]}}\n",
            "{'query_gen': {'messages': [AIMessage(content=\"To determine which sales agent made the most in sales in 2009, we need to join the `Invoice` table with the `Customer` and `Employee` tables. The `Customer` table will provide the `SupportRepId` which links to the `EmployeeId` in the `Employee` table.\\n\\nHere is the query to find the sales agent with the highest total sales in 2009:\\n\\n```sql\\nSELECT e.FirstName, e.LastName, SUM(i.Total) as TotalSales\\nFROM Invoice i\\nJOIN Customer c ON i.CustomerId = c.CustomerId\\nJOIN Employee e ON c.SupportRepId = e.EmployeeId\\nWHERE strftime('%Y', i.InvoiceDate) = '2009'\\nGROUP BY e.EmployeeId\\nORDER BY TotalSales DESC\\nLIMIT 1;\\n```\", additional_kwargs={'refusal': None}, response_metadata={'token_usage': {'completion_tokens': 164, 'prompt_tokens': 1310, 'total_tokens': 1474}, 'model_name': 'gpt-4o-2024-05-13', 'system_fingerprint': 'fp_df84d6bd70', 'finish_reason': 'stop', 'logprobs': None}, id='run-76559781-66b9-437f-9973-0346fb288588-0', usage_metadata={'input_tokens': 1310, 'output_tokens': 164, 'total_tokens': 1474})]}}\n",
            "{'correct_query': {'messages': [AIMessage(content='', additional_kwargs={'tool_calls': [{'id': 'call_qQtgDPY6nz2jcvbprQ7VpLSc', 'function': {'arguments': '{\"query\":\"SELECT e.FirstName, e.LastName, SUM(i.Total) as TotalSales\\\\nFROM Invoice i\\\\nJOIN Customer c ON i.CustomerId = c.CustomerId\\\\nJOIN Employee e ON c.SupportRepId = e.EmployeeId\\\\nWHERE strftime(\\'%Y\\', i.InvoiceDate) = \\'2009\\'\\\\nGROUP BY e.EmployeeId\\\\nORDER BY TotalSales DESC\\\\nLIMIT 1;\"}', 'name': 'db_query_tool'}, 'type': 'function'}], 'refusal': None}, response_metadata={'token_usage': {'completion_tokens': 90, 'prompt_tokens': 376, 'total_tokens': 466}, 'model_name': 'gpt-4o-2024-05-13', 'system_fingerprint': 'fp_c9aa9c0491', 'finish_reason': 'stop', 'logprobs': None}, id='run-fc28c351-5693-43ce-9730-d4589766078b-0', tool_calls=[{'name': 'db_query_tool', 'args': {'query': \"SELECT e.FirstName, e.LastName, SUM(i.Total) as TotalSales\\nFROM Invoice i\\nJOIN Customer c ON i.CustomerId = c.CustomerId\\nJOIN Employee e ON c.SupportRepId = e.EmployeeId\\nWHERE strftime('%Y', i.InvoiceDate) = '2009'\\nGROUP BY e.EmployeeId\\nORDER BY TotalSales DESC\\nLIMIT 1;\"}, 'id': 'call_qQtgDPY6nz2jcvbprQ7VpLSc', 'type': 'tool_call'}], usage_metadata={'input_tokens': 376, 'output_tokens': 90, 'total_tokens': 466})]}}\n",
            "{'execute_query': {'messages': [ToolMessage(content=\"[('Steve', 'Johnson', 164.33999999999997)]\", name='db_query_tool', tool_call_id='call_qQtgDPY6nz2jcvbprQ7VpLSc')]}}\n",
            "{'query_gen': {'messages': [AIMessage(content='', additional_kwargs={'tool_calls': [{'id': 'call_IJl59MGeBiIojFfXweUGyJ7M', 'function': {'arguments': '{\"final_answer\":\"The sales agent who made the most in sales in 2009 is Steve Johnson with total sales of $164.34.\"}', 'name': 'SubmitFinalAnswer'}, 'type': 'function'}], 'refusal': None}, response_metadata={'token_usage': {'completion_tokens': 41, 'prompt_tokens': 1594, 'total_tokens': 1635}, 'model_name': 'gpt-4o-2024-05-13', 'system_fingerprint': 'fp_df84d6bd70', 'finish_reason': 'tool_calls', 'logprobs': None}, id='run-d7109dab-9695-4cb8-b30b-ae358c633cbe-0', tool_calls=[{'name': 'SubmitFinalAnswer', 'args': {'final_answer': 'The sales agent who made the most in sales in 2009 is Steve Johnson with total sales of $164.34.'}, 'id': 'call_IJl59MGeBiIojFfXweUGyJ7M', 'type': 'tool_call'}], usage_metadata={'input_tokens': 1594, 'output_tokens': 41, 'total_tokens': 1635})]}}\n"
          ]
        }
      ],
      "source": [
        "for event in app.stream(\n",
        "    {\"messages\": [(\"user\", \"Which sales agent made the most in sales in 2009?\")]}\n",
        "):\n",
        "    print(event)"
      ]
    },
    {
      "cell_type": "markdown",
      "id": "490f07a9-d816-4b53-b784-b33dbc6d74b1",
      "metadata": {
        "id": "490f07a9-d816-4b53-b784-b33dbc6d74b1"
      },
      "source": [
        "\n",
        "## 評估\n",
        "\n",
        "評估\n",
        "現在，我們可以對這個agent進行評估了！我們之前已經定義了[簡單的 SQL agent](https://github.com/langchain-ai/langsmith-cookbook/blob/main/testing-examples/agent-evals-with-langgraph/langgraph_sql_agent_eval.ipynb)作為 LangSmith 評估 Cookbook 的一部分，並對關於我們數據庫的 5 個問題的回答進行了評估。我們可以在相同的數據集上將這個 agent 與我們之前的agent進行比較。[agent 評估](https://docs.smith.langchain.com/concepts/evaluation#agents)可以關注三個方面：\n",
        "\n",
        "響應（Response）：輸入是一個提示和一個工具列表，輸出是 Agent 的響應。\n",
        "單個工具（Single tool）：與之前一樣，輸入是一個提示和一個工具列表，輸出是工具調用。\n",
        "軌跡（Trajectory）：與之前一樣，輸入是一個提示和一個工具列表，輸出是工具調用列表。\n",
        "響應\n",
        "我們將評估我們代理的端到端響應相對於參考答案的情況。讓我們在相同的數據集上運行響應評估。\n",
        "\n",
        "* `響應（Response）`: 輸入是一個提示和一個工具列表，輸出是 Agent 的響應。\n",
        "* `單個工具（Single tool）`: 與之前一樣，輸入是一個提示和一個工具列表，輸出是工具調用。\n",
        "* `軌跡（Trajectory）`: 與之前一樣，輸入是一個提示和一個工具列表，輸出是工具調用列表。\n",
        "\n",
        "![Screenshot 2024-06-13 at 2.13.30 PM.png](https://github.com/markl-a/LLM-agent-Demo/raw/main/1.LangchainDemos/sql_agent.png)\n",
        "\n",
        "### 響應評估\n",
        "\n",
        "\n",
        "我們將評估我們代理的端到端響應，並將其與參考答案進行比較。現在，讓我們[在相同的數據集](https://smith.langchain.com/public/20808486-67c3-4e30-920b-6d49d6f2b6b8/d)上運行[響應評估](https://docs.smith.langchain.com/concepts/evaluation#evaluating-an-agents-final-response)。"
      ]
    },
    {
      "cell_type": "code",
      "execution_count": 14,
      "id": "a80f4adc-a8dc-403c-9bef-6de5e873b9bc",
      "metadata": {
        "id": "a80f4adc-a8dc-403c-9bef-6de5e873b9bc"
      },
      "outputs": [],
      "source": [
        "import json\n",
        "\n",
        "\n",
        "def predict_sql_agent_answer(example: dict):\n",
        "    \"\"\"Use this for answer evaluation\"\"\"\n",
        "    msg = {\"messages\": (\"user\", example[\"input\"])}\n",
        "    messages = app.invoke(msg)\n",
        "    json_str = messages[\"messages\"][-1].additional_kwargs[\"tool_calls\"][0][\"function\"][\n",
        "        \"arguments\"\n",
        "    ]\n",
        "    response = json.loads(json_str)[\"final_answer\"]\n",
        "    return {\"response\": response}"
      ]
    },
    {
      "cell_type": "code",
      "execution_count": 15,
      "id": "1040233f-3751-4bd3-902f-709fc2e1ecf5",
      "metadata": {
        "id": "1040233f-3751-4bd3-902f-709fc2e1ecf5",
        "colab": {
          "base_uri": "https://localhost:8080/"
        },
        "outputId": "cdfc2621-4f7d-4fe5-a4af-447bcfff721e"
      },
      "outputs": [
        {
          "output_type": "stream",
          "name": "stderr",
          "text": [
            "/usr/local/lib/python3.10/dist-packages/langchain_core/_api/beta_decorator.py:87: LangChainBetaWarning: The function `loads` is in beta. It is actively being worked on, so the API may change.\n",
            "  warn_beta(\n"
          ]
        }
      ],
      "source": [
        "from langchain import hub\n",
        "from langchain_openai import ChatOpenAI\n",
        "\n",
        "# Grade prompt\n",
        "grade_prompt_answer_accuracy = prompt = hub.pull(\"langchain-ai/rag-answer-vs-reference\")\n",
        "\n",
        "\n",
        "def answer_evaluator(run, example) -> dict:\n",
        "    \"\"\"\n",
        "    A simple evaluator for RAG answer accuracy\n",
        "    \"\"\"\n",
        "\n",
        "    # Get question, ground truth answer, chain\n",
        "    input_question = example.inputs[\"input\"]\n",
        "    reference = example.outputs[\"output\"]\n",
        "    prediction = run.outputs[\"response\"]\n",
        "\n",
        "    # LLM grader\n",
        "    llm = ChatOpenAI(model=\"gpt-4-turbo\", temperature=0)\n",
        "\n",
        "    # Structured prompt\n",
        "    answer_grader = grade_prompt_answer_accuracy | llm\n",
        "\n",
        "    # Run evaluator\n",
        "    score = answer_grader.invoke(\n",
        "        {\n",
        "            \"question\": input_question,\n",
        "            \"correct_answer\": reference,\n",
        "            \"student_answer\": prediction,\n",
        "        }\n",
        "    )\n",
        "    score = score[\"Score\"]\n",
        "\n",
        "    return {\"key\": \"answer_v_reference_score\", \"score\": score}"
      ]
    },
    {
      "cell_type": "code",
      "execution_count": 16,
      "id": "eb814b85-70ba-4699-9038-20266b53efbd",
      "metadata": {
        "id": "eb814b85-70ba-4699-9038-20266b53efbd",
        "colab": {
          "base_uri": "https://localhost:8080/",
          "height": 365
        },
        "outputId": "e65870df-8c1d-4e16-a300-0d1e2b1ec95c"
      },
      "outputs": [
        {
          "output_type": "error",
          "ename": "LangSmithNotFoundError",
          "evalue": "Dataset SQL Agent Response not found",
          "traceback": [
            "\u001b[0;31m---------------------------------------------------------------------------\u001b[0m",
            "\u001b[0;31mLangSmithNotFoundError\u001b[0m                    Traceback (most recent call last)",
            "\u001b[0;32m<ipython-input-16-c0be6c0769b5>\u001b[0m in \u001b[0;36m<cell line: 4>\u001b[0;34m()\u001b[0m\n\u001b[1;32m      2\u001b[0m \u001b[0;34m\u001b[0m\u001b[0m\n\u001b[1;32m      3\u001b[0m \u001b[0mdataset_name\u001b[0m \u001b[0;34m=\u001b[0m \u001b[0;34m\"SQL Agent Response\"\u001b[0m\u001b[0;34m\u001b[0m\u001b[0;34m\u001b[0m\u001b[0m\n\u001b[0;32m----> 4\u001b[0;31m experiment_results = evaluate(\n\u001b[0m\u001b[1;32m      5\u001b[0m     \u001b[0mpredict_sql_agent_answer\u001b[0m\u001b[0;34m,\u001b[0m\u001b[0;34m\u001b[0m\u001b[0;34m\u001b[0m\u001b[0m\n\u001b[1;32m      6\u001b[0m     \u001b[0mdata\u001b[0m\u001b[0;34m=\u001b[0m\u001b[0mdataset_name\u001b[0m\u001b[0;34m,\u001b[0m\u001b[0;34m\u001b[0m\u001b[0;34m\u001b[0m\u001b[0m\n",
            "\u001b[0;32m/usr/local/lib/python3.10/dist-packages/langsmith/evaluation/_runner.py\u001b[0m in \u001b[0;36mevaluate\u001b[0;34m(target, data, evaluators, summary_evaluators, metadata, experiment_prefix, description, max_concurrency, num_repetitions, client, blocking)\u001b[0m\n\u001b[1;32m    247\u001b[0m         \u001b[0mView\u001b[0m \u001b[0mthe\u001b[0m \u001b[0mevaluation\u001b[0m \u001b[0mresults\u001b[0m \u001b[0;32mfor\u001b[0m \u001b[0mexperiment\u001b[0m\u001b[0;34m:\u001b[0m\u001b[0;34m...\u001b[0m\u001b[0;34m\u001b[0m\u001b[0;34m\u001b[0m\u001b[0m\n\u001b[1;32m    248\u001b[0m     \"\"\"  # noqa: E501\n\u001b[0;32m--> 249\u001b[0;31m     return _evaluate(\n\u001b[0m\u001b[1;32m    250\u001b[0m         \u001b[0mtarget\u001b[0m\u001b[0;34m,\u001b[0m\u001b[0;34m\u001b[0m\u001b[0;34m\u001b[0m\u001b[0m\n\u001b[1;32m    251\u001b[0m         \u001b[0mdata\u001b[0m\u001b[0;34m=\u001b[0m\u001b[0mdata\u001b[0m\u001b[0;34m,\u001b[0m\u001b[0;34m\u001b[0m\u001b[0;34m\u001b[0m\u001b[0m\n",
            "\u001b[0;32m/usr/local/lib/python3.10/dist-packages/langsmith/evaluation/_runner.py\u001b[0m in \u001b[0;36m_evaluate\u001b[0;34m(target, data, evaluators, summary_evaluators, metadata, experiment_prefix, description, max_concurrency, num_repetitions, client, blocking, experiment)\u001b[0m\n\u001b[1;32m    805\u001b[0m         \u001b[0mruns\u001b[0m\u001b[0;34m=\u001b[0m\u001b[0mruns\u001b[0m\u001b[0;34m,\u001b[0m\u001b[0;34m\u001b[0m\u001b[0;34m\u001b[0m\u001b[0m\n\u001b[1;32m    806\u001b[0m         \u001b[0;31m# Create or resolve the experiment.\u001b[0m\u001b[0;34m\u001b[0m\u001b[0;34m\u001b[0m\u001b[0m\n\u001b[0;32m--> 807\u001b[0;31m     ).start()\n\u001b[0m\u001b[1;32m    808\u001b[0m     \u001b[0mcache_dir\u001b[0m \u001b[0;34m=\u001b[0m \u001b[0mls_utils\u001b[0m\u001b[0;34m.\u001b[0m\u001b[0mget_cache_dir\u001b[0m\u001b[0;34m(\u001b[0m\u001b[0;32mNone\u001b[0m\u001b[0;34m)\u001b[0m\u001b[0;34m\u001b[0m\u001b[0;34m\u001b[0m\u001b[0m\n\u001b[1;32m    809\u001b[0m     cache_path = (\n",
            "\u001b[0;32m/usr/local/lib/python3.10/dist-packages/langsmith/evaluation/_runner.py\u001b[0m in \u001b[0;36mstart\u001b[0;34m(self)\u001b[0m\n\u001b[1;32m   1098\u001b[0m \u001b[0;34m\u001b[0m\u001b[0m\n\u001b[1;32m   1099\u001b[0m     \u001b[0;32mdef\u001b[0m \u001b[0mstart\u001b[0m\u001b[0;34m(\u001b[0m\u001b[0mself\u001b[0m\u001b[0;34m)\u001b[0m \u001b[0;34m->\u001b[0m \u001b[0m_ExperimentManager\u001b[0m\u001b[0;34m:\u001b[0m\u001b[0;34m\u001b[0m\u001b[0;34m\u001b[0m\u001b[0m\n\u001b[0;32m-> 1100\u001b[0;31m         \u001b[0mfirst_example\u001b[0m \u001b[0;34m=\u001b[0m \u001b[0mnext\u001b[0m\u001b[0;34m(\u001b[0m\u001b[0mitertools\u001b[0m\u001b[0;34m.\u001b[0m\u001b[0mislice\u001b[0m\u001b[0;34m(\u001b[0m\u001b[0mself\u001b[0m\u001b[0;34m.\u001b[0m\u001b[0mexamples\u001b[0m\u001b[0;34m,\u001b[0m \u001b[0;36m1\u001b[0m\u001b[0;34m)\u001b[0m\u001b[0;34m)\u001b[0m\u001b[0;34m\u001b[0m\u001b[0;34m\u001b[0m\u001b[0m\n\u001b[0m\u001b[1;32m   1101\u001b[0m         \u001b[0mproject\u001b[0m \u001b[0;34m=\u001b[0m \u001b[0mself\u001b[0m\u001b[0;34m.\u001b[0m\u001b[0m_get_project\u001b[0m\u001b[0;34m(\u001b[0m\u001b[0mfirst_example\u001b[0m\u001b[0;34m)\u001b[0m\u001b[0;34m\u001b[0m\u001b[0;34m\u001b[0m\u001b[0m\n\u001b[1;32m   1102\u001b[0m         \u001b[0mself\u001b[0m\u001b[0;34m.\u001b[0m\u001b[0m_print_experiment_start\u001b[0m\u001b[0;34m(\u001b[0m\u001b[0mproject\u001b[0m\u001b[0;34m,\u001b[0m \u001b[0mfirst_example\u001b[0m\u001b[0;34m)\u001b[0m\u001b[0;34m\u001b[0m\u001b[0;34m\u001b[0m\u001b[0m\n",
            "\u001b[0;32m/usr/local/lib/python3.10/dist-packages/langsmith/client.py\u001b[0m in \u001b[0;36mlist_examples\u001b[0;34m(self, dataset_id, dataset_name, example_ids, as_of, splits, inline_s3_urls, offset, limit, metadata, filter, **kwargs)\u001b[0m\n\u001b[1;32m   3387\u001b[0m             \u001b[0mparams\u001b[0m\u001b[0;34m[\u001b[0m\u001b[0;34m\"dataset\"\u001b[0m\u001b[0;34m]\u001b[0m \u001b[0;34m=\u001b[0m \u001b[0mdataset_id\u001b[0m\u001b[0;34m\u001b[0m\u001b[0;34m\u001b[0m\u001b[0m\n\u001b[1;32m   3388\u001b[0m         \u001b[0;32melif\u001b[0m \u001b[0mdataset_name\u001b[0m \u001b[0;32mis\u001b[0m \u001b[0;32mnot\u001b[0m \u001b[0;32mNone\u001b[0m\u001b[0;34m:\u001b[0m\u001b[0;34m\u001b[0m\u001b[0;34m\u001b[0m\u001b[0m\n\u001b[0;32m-> 3389\u001b[0;31m             \u001b[0mdataset_id\u001b[0m \u001b[0;34m=\u001b[0m \u001b[0mself\u001b[0m\u001b[0;34m.\u001b[0m\u001b[0mread_dataset\u001b[0m\u001b[0;34m(\u001b[0m\u001b[0mdataset_name\u001b[0m\u001b[0;34m=\u001b[0m\u001b[0mdataset_name\u001b[0m\u001b[0;34m)\u001b[0m\u001b[0;34m.\u001b[0m\u001b[0mid\u001b[0m\u001b[0;34m\u001b[0m\u001b[0;34m\u001b[0m\u001b[0m\n\u001b[0m\u001b[1;32m   3390\u001b[0m             \u001b[0mparams\u001b[0m\u001b[0;34m[\u001b[0m\u001b[0;34m\"dataset\"\u001b[0m\u001b[0;34m]\u001b[0m \u001b[0;34m=\u001b[0m \u001b[0mdataset_id\u001b[0m\u001b[0;34m\u001b[0m\u001b[0;34m\u001b[0m\u001b[0m\n\u001b[1;32m   3391\u001b[0m         \u001b[0;32melse\u001b[0m\u001b[0;34m:\u001b[0m\u001b[0;34m\u001b[0m\u001b[0;34m\u001b[0m\u001b[0m\n",
            "\u001b[0;32m/usr/local/lib/python3.10/dist-packages/langsmith/utils.py\u001b[0m in \u001b[0;36mwrapper\u001b[0;34m(*args, **kwargs)\u001b[0m\n\u001b[1;32m    118\u001b[0m                     \u001b[0;34mf\" {', '.join(invalid_group_names)}\"\u001b[0m\u001b[0;34m\u001b[0m\u001b[0;34m\u001b[0m\u001b[0m\n\u001b[1;32m    119\u001b[0m                 )\n\u001b[0;32m--> 120\u001b[0;31m             \u001b[0;32mreturn\u001b[0m \u001b[0mfunc\u001b[0m\u001b[0;34m(\u001b[0m\u001b[0;34m*\u001b[0m\u001b[0margs\u001b[0m\u001b[0;34m,\u001b[0m \u001b[0;34m**\u001b[0m\u001b[0mkwargs\u001b[0m\u001b[0;34m)\u001b[0m\u001b[0;34m\u001b[0m\u001b[0;34m\u001b[0m\u001b[0m\n\u001b[0m\u001b[1;32m    121\u001b[0m \u001b[0;34m\u001b[0m\u001b[0m\n\u001b[1;32m    122\u001b[0m         \u001b[0;32mreturn\u001b[0m \u001b[0mwrapper\u001b[0m\u001b[0;34m\u001b[0m\u001b[0;34m\u001b[0m\u001b[0m\n",
            "\u001b[0;32m/usr/local/lib/python3.10/dist-packages/langsmith/client.py\u001b[0m in \u001b[0;36mread_dataset\u001b[0;34m(self, dataset_name, dataset_id)\u001b[0m\n\u001b[1;32m   2614\u001b[0m         \u001b[0;32mif\u001b[0m \u001b[0misinstance\u001b[0m\u001b[0;34m(\u001b[0m\u001b[0mresult\u001b[0m\u001b[0;34m,\u001b[0m \u001b[0mlist\u001b[0m\u001b[0;34m)\u001b[0m\u001b[0;34m:\u001b[0m\u001b[0;34m\u001b[0m\u001b[0;34m\u001b[0m\u001b[0m\n\u001b[1;32m   2615\u001b[0m             \u001b[0;32mif\u001b[0m \u001b[0mlen\u001b[0m\u001b[0;34m(\u001b[0m\u001b[0mresult\u001b[0m\u001b[0;34m)\u001b[0m \u001b[0;34m==\u001b[0m \u001b[0;36m0\u001b[0m\u001b[0;34m:\u001b[0m\u001b[0;34m\u001b[0m\u001b[0;34m\u001b[0m\u001b[0m\n\u001b[0;32m-> 2616\u001b[0;31m                 raise ls_utils.LangSmithNotFoundError(\n\u001b[0m\u001b[1;32m   2617\u001b[0m                     \u001b[0;34mf\"Dataset {dataset_name} not found\"\u001b[0m\u001b[0;34m\u001b[0m\u001b[0;34m\u001b[0m\u001b[0m\n\u001b[1;32m   2618\u001b[0m                 )\n",
            "\u001b[0;31mLangSmithNotFoundError\u001b[0m: Dataset SQL Agent Response not found"
          ]
        }
      ],
      "source": [
        "from langsmith.evaluation import evaluate\n",
        "\n",
        "dataset_name = \"SQL Agent Response\"\n",
        "experiment_results = evaluate(\n",
        "    predict_sql_agent_answer,\n",
        "    data=dataset_name,\n",
        "    evaluators=[answer_evaluator],\n",
        "    num_repetitions=3,\n",
        "    experiment_prefix=\"sql-agent-multi-step-response-v-reference\",\n",
        "    metadata={\"version\": \"Chinook, gpt-4o multi-step-agent\"},\n",
        ")"
      ]
    },
    {
      "cell_type": "markdown",
      "id": "23ddb587-d52c-45d5-9316-ff0e86f90ef6",
      "metadata": {
        "id": "23ddb587-d52c-45d5-9316-ff0e86f90ef6"
      },
      "source": [
        "摘要指標 (參見此處的[數據集](https://smith.langchain.com/public/20808486-67c3-4e30-920b-6d49d6f2b6b8/d)):\n",
        "\n",
        "* 此處的`多步驟` agent 的表現優於先前定義的[基礎 SQL agent](https://github.com/langchain-ai/langsmith-cookbook/blob/main/testing-examples/agent-evals-with-langgraph/langgraph_sql_agent_eval.ipynb)。\n"
      ]
    },
    {
      "cell_type": "markdown",
      "id": "5fb7f738-11d4-4a55-8b28-58727ead9838",
      "metadata": {
        "id": "5fb7f738-11d4-4a55-8b28-58727ead9838"
      },
      "source": [
        "### 軌跡評估\n",
        "\n",
        "讓我們在相同的數據集上運行[軌跡評估](https://docs.smith.langchain.com/concepts/evaluation#evaluating-an-agents-trajectory)。\n",
        "\n"
      ]
    },
    {
      "cell_type": "code",
      "execution_count": null,
      "id": "ef84d2f7-fa52-46ca-8939-616e5ac4d101",
      "metadata": {
        "id": "ef84d2f7-fa52-46ca-8939-616e5ac4d101"
      },
      "outputs": [],
      "source": [
        "# These are the tools that we expect the agent to use\n",
        "expected_trajectory = [\n",
        "    \"sql_db_list_tables\",  # first: list_tables_tool node\n",
        "    \"sql_db_schema\",  # second: get_schema_tool node\n",
        "    \"db_query_tool\",  # third: execute_query node\n",
        "    \"SubmitFinalAnswer\",\n",
        "]  # fourth: query_gen"
      ]
    },
    {
      "cell_type": "code",
      "execution_count": null,
      "id": "1b7b007a-1dd2-4f3e-b157-b9d7ec2ea0a2",
      "metadata": {
        "id": "1b7b007a-1dd2-4f3e-b157-b9d7ec2ea0a2"
      },
      "outputs": [],
      "source": [
        "def predict_sql_agent_messages(example: dict):\n",
        "    \"\"\"Use this for answer evaluation\"\"\"\n",
        "    msg = {\"messages\": (\"user\", example[\"input\"])}\n",
        "    messages = app.invoke(msg)\n",
        "    return {\"response\": messages}"
      ]
    },
    {
      "cell_type": "code",
      "execution_count": null,
      "id": "ae2fe538-1c6d-4186-80dd-1d240d253f40",
      "metadata": {
        "id": "ae2fe538-1c6d-4186-80dd-1d240d253f40"
      },
      "outputs": [],
      "source": [
        "from langsmith.schemas import Example, Run\n",
        "\n",
        "\n",
        "def find_tool_calls(messages):\n",
        "    \"\"\"\n",
        "    Find all tool calls in the messages returned\n",
        "    \"\"\"\n",
        "    tool_calls = [\n",
        "        tc[\"name\"] for m in messages[\"messages\"] for tc in getattr(m, \"tool_calls\", [])\n",
        "    ]\n",
        "    return tool_calls\n",
        "\n",
        "\n",
        "def contains_all_tool_calls_in_order_exact_match(\n",
        "    root_run: Run, example: Example\n",
        ") -> dict:\n",
        "    \"\"\"\n",
        "    Check if all expected tools are called in exact order and without any additional tool calls.\n",
        "    \"\"\"\n",
        "    expected_trajectory = [\n",
        "        \"sql_db_list_tables\",\n",
        "        \"sql_db_schema\",\n",
        "        \"db_query_tool\",\n",
        "        \"SubmitFinalAnswer\",\n",
        "    ]\n",
        "    messages = root_run.outputs[\"response\"]\n",
        "    tool_calls = find_tool_calls(messages)\n",
        "\n",
        "    # Print the tool calls for debugging\n",
        "    print(\"Here are my tool calls:\")\n",
        "    print(tool_calls)\n",
        "\n",
        "    # Check if the tool calls match the expected trajectory exactly\n",
        "    if tool_calls == expected_trajectory:\n",
        "        score = 1\n",
        "    else:\n",
        "        score = 0\n",
        "\n",
        "    return {\"score\": int(score), \"key\": \"multi_tool_call_in_exact_order\"}\n",
        "\n",
        "\n",
        "def contains_all_tool_calls_in_order(root_run: Run, example: Example) -> dict:\n",
        "    \"\"\"\n",
        "    Check if all expected tools are called in order,\n",
        "    but it allows for other tools to be called in between the expected ones.\n",
        "    \"\"\"\n",
        "    messages = root_run.outputs[\"response\"]\n",
        "    tool_calls = find_tool_calls(messages)\n",
        "\n",
        "    # Print the tool calls for debugging\n",
        "    print(\"Here are my tool calls:\")\n",
        "    print(tool_calls)\n",
        "\n",
        "    it = iter(tool_calls)\n",
        "    if all(elem in it for elem in expected_trajectory):\n",
        "        score = 1\n",
        "    else:\n",
        "        score = 0\n",
        "    return {\"score\": int(score), \"key\": \"multi_tool_call_in_order\"}"
      ]
    },
    {
      "cell_type": "code",
      "execution_count": null,
      "id": "cf02e843-438d-4168-a27a-8f1e0266f8d7",
      "metadata": {
        "id": "cf02e843-438d-4168-a27a-8f1e0266f8d7"
      },
      "outputs": [],
      "source": [
        "experiment_results = evaluate(\n",
        "    predict_sql_agent_messages,\n",
        "    data=dataset_name,\n",
        "    evaluators=[\n",
        "        contains_all_tool_calls_in_order,\n",
        "        contains_all_tool_calls_in_order_exact_match,\n",
        "    ],\n",
        "    num_repetitions=3,\n",
        "    experiment_prefix=\"sql-agent-multi-step-tool-calling-trajecory-in-order\",\n",
        "    metadata={\"version\": \"Chinook, gpt-4o multi-step-agent\"},\n",
        ")"
      ]
    },
    {
      "cell_type": "markdown",
      "id": "a34d5022-c0c5-4037-afc5-75c173b882f6",
      "metadata": {
        "id": "a34d5022-c0c5-4037-afc5-75c173b882f6"
      },
      "source": [
        "總體得分顯示，我們從未按照正確的順序調用工具：\n",
        "\n",
        "![Screenshot 2024-06-13 at 2.46.34 PM.png](https://github.com/markl-a/LLM-agent-Demo/raw/main/1.LangchainDemos/sql_agent2.png)"
      ]
    },
    {
      "cell_type": "markdown",
      "id": "a9e4a0e6-fc0f-4101-bda5-d96d1294cbb9",
      "metadata": {
        "id": "a9e4a0e6-fc0f-4101-bda5-d96d1294cbb9"
      },
      "source": [
        "查看日誌記錄，我們可以發現一些有趣的事情 -\n",
        "```\n",
        "['sql_db_list_tables', 'sql_db_schema', 'sql_db_query', 'db_query_tool', 'SubmitFinalAnswer']\n",
        "```\n",
        "在大部分的運行中，我們似乎在軌跡中注入了幻覺的工具調用 `sql_db_query`。\n",
        "\n",
        "這就是為什麼 `multi_tool_call_in_exact_order` 失敗，但 `multi_tool_call_in_order` 仍然通過的原因。\n",
        "\n",
        "我們將在未來的 Cookbook 中探索使用 LangGraph 來解決這個問題的方法！\n"
      ]
    }
  ],
  "metadata": {
    "kernelspec": {
      "display_name": "Python 3 (ipykernel)",
      "language": "python",
      "name": "python3"
    },
    "language_info": {
      "codemirror_mode": {
        "name": "ipython",
        "version": 3
      },
      "file_extension": ".py",
      "mimetype": "text/x-python",
      "name": "python",
      "nbconvert_exporter": "python",
      "pygments_lexer": "ipython3",
      "version": "3.11.8"
    },
    "colab": {
      "provenance": []
    }
  },
  "nbformat": 4,
  "nbformat_minor": 5
}