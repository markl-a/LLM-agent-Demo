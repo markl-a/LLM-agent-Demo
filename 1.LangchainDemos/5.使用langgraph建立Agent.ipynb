{
  "nbformat": 4,
  "nbformat_minor": 0,
  "metadata": {
    "colab": {
      "provenance": []
    },
    "kernelspec": {
      "name": "python3",
      "display_name": "Python 3"
    },
    "language_info": {
      "name": "python"
    }
  },
  "cells": [
    {
      "cell_type": "markdown",
      "source": [
        "LLM本身無法採取行動，它們只能輸出文本。LangChain 的一個重要用例是創建代理。代理是使用 LLM 作為推理引擎來決定要採取哪些行動以及向其傳遞什麼輸入的系統。執行操作後，結果可以反饋回 LLM，以確定是否需要更多操作，或者是否可以結束。\n",
        "\n",
        "在本教學中，我們將構建一個可以與搜尋引擎互動的代理。您將能夠向此代理提出問題，觀察它調用搜尋工具，並與之進行對話。\n",
        "\n",
        "端到端代理\n",
        "下面的程式碼片段代表了一個功能齊全的代理，它使用 LLM 來決定使用哪些工具。它配備了一個通用搜尋工具，並具有對話記憶功能——這意味著它可以用作多輪聊天機器人。\n",
        "\n",
        "在本指南的其餘部分，我們將詳細介紹各個組件及其作用——但如果您只想獲取一些程式碼並開始使用，請隨意使用此程式碼！"
      ],
      "metadata": {
        "id": "rzbGrpgdx126"
      }
    },
    {
      "cell_type": "code",
      "execution_count": null,
      "metadata": {
        "id": "FUO-SETFxu4v"
      },
      "outputs": [],
      "source": [
        "# Import relevant functionality\n",
        "from langchain_anthropic import ChatAnthropic\n",
        "from langchain_community.tools.tavily_search import TavilySearchResults\n",
        "from langchain_core.messages import HumanMessage\n",
        "from langgraph.checkpoint.memory import MemorySaver\n",
        "from langgraph.prebuilt import create_react_agent\n",
        "\n",
        "# Create the agent\n",
        "memory = MemorySaver()\n",
        "model = ChatAnthropic(model_name=\"claude-3-sonnet-20240229\")\n",
        "search = TavilySearchResults(max_results=2)\n",
        "tools = [search]\n",
        "agent_executor = create_react_agent(model, tools, checkpointer=memory)\n",
        "\n",
        "# Use the agent\n",
        "config = {\"configurable\": {\"thread_id\": \"abc123\"}}\n",
        "for chunk in agent_executor.stream(\n",
        "    {\"messages\": [HumanMessage(content=\"hi im bob! and i live in sf\")]}, config\n",
        "):\n",
        "    print(chunk)\n",
        "    print(\"----\")\n",
        "\n",
        "for chunk in agent_executor.stream(\n",
        "    {\"messages\": [HumanMessage(content=\"whats the weather where I live?\")]}, config\n",
        "):\n",
        "    print(chunk)\n",
        "    print(\"----\")"
      ]
    },
    {
      "cell_type": "code",
      "source": [
        "%pip install -U langchain-community langgraph langchain-anthropic tavily-python langgraph-checkpoint-sqlite langchain-openai"
      ],
      "metadata": {
        "id": "R_JbFXB72iTh"
      },
      "execution_count": null,
      "outputs": []
    },
    {
      "cell_type": "code",
      "source": [
        "import getpass\n",
        "import os\n",
        "from langchain_openai import ChatOpenAI\n",
        "from anthropic import Anthropic\n",
        "\n",
        "os.environ[\"LANGCHAIN_TRACING_V2\"] = \"true\"\n",
        "# 替換為你的LANGCHAIN_API_KEY\n",
        "os.environ[\"LANGCHAIN_API_KEY\"] = \"替換為你的LANGCHAIN_API_KEY\"\n",
        "\n",
        "os.environ[\"OPENAI_API_KEY\"] = \"替換為你的OPENAI_API_KEY\"\n",
        "\n",
        "os.environ[\"TAVILY_API_KEY\"] =\"替換為你的TAVILY_API_KEY\""
      ],
      "metadata": {
        "id": "nBxKxWMxyf-E"
      },
      "execution_count": 2,
      "outputs": []
    },
    {
      "cell_type": "markdown",
      "source": [
        "定義工具\n",
        "首先，我們需要創建我們想要使用的工具。我們的主要工具選擇將是 [Tavily](https://github.com/langchain-ai/langchain/blob/49dea06af15a110518f7a119260f609a4b5f74fe/docs/docs/tutorials/docs/integrations/tools/tavily_search) —— 一個搜尋引擎。LangChain 內建了一個工具，可以輕鬆地將 Tavily 搜尋引擎作為工具使用。"
      ],
      "metadata": {
        "id": "vMDfp1Id3chw"
      }
    },
    {
      "cell_type": "code",
      "source": [
        "from langchain_community.tools.tavily_search import TavilySearchResults\n",
        "\n",
        "search = TavilySearchResults(max_results=2)\n",
        "search_results = search.invoke(\"what is the weather in SF\")\n",
        "print(search_results)\n",
        "# If we want, we can create other tools.\n",
        "# Once we have all the tools we want, we can put them in a list that we will reference later.\n",
        "tools = [search]"
      ],
      "metadata": {
        "colab": {
          "base_uri": "https://localhost:8080/"
        },
        "id": "NjPFBVnR3lVw",
        "outputId": "53264e82-2720-417a-da66-0475fc91344c"
      },
      "execution_count": 3,
      "outputs": [
        {
          "output_type": "stream",
          "name": "stdout",
          "text": [
            "[{'url': 'https://www.weatherapi.com/', 'content': \"{'location': {'name': 'San Francisco', 'region': 'California', 'country': 'United States of America', 'lat': 37.78, 'lon': -122.42, 'tz_id': 'America/Los_Angeles', 'localtime_epoch': 1724075718, 'localtime': '2024-08-19 06:55'}, 'current': {'last_updated_epoch': 1724075100, 'last_updated': '2024-08-19 06:45', 'temp_c': 15.2, 'temp_f': 59.4, 'is_day': 1, 'condition': {'text': 'Partly cloudy', 'icon': '//cdn.weatherapi.com/weather/64x64/day/116.png', 'code': 1003}, 'wind_mph': 2.2, 'wind_kph': 3.6, 'wind_degree': 10, 'wind_dir': 'N', 'pressure_mb': 1017.0, 'pressure_in': 30.02, 'precip_mm': 0.0, 'precip_in': 0.0, 'humidity': 96, 'cloud': 75, 'feelslike_c': 15.2, 'feelslike_f': 59.4, 'windchill_c': 11.9, 'windchill_f': 53.5, 'heatindex_c': 12.4, 'heatindex_f': 54.4, 'dewpoint_c': 11.2, 'dewpoint_f': 52.2, 'vis_km': 16.0, 'vis_miles': 9.0, 'uv': 1.0, 'gust_mph': 7.6, 'gust_kph': 12.2}}\"}, {'url': 'https://www.weathertab.com/en/c/e/08/united-states/california/san-francisco/', 'content': 'Avg Low Temps 50 to 60 °F. Explore comprehensive August 2024 weather forecasts for San Francisco, including daily high and low temperatures, precipitation risks, and monthly temperature trends. Featuring detailed day-by-day forecasts, dynamic graphs of daily rain probabilities, and temperature trends to help you plan ahead.'}]\n"
          ]
        }
      ]
    },
    {
      "cell_type": "markdown",
      "source": [
        "API Reference:[TavilySearchResults](https://api.python.langchain.com/en/latest/tools/langchain_community.tools.tavily_search.tool.TavilySearchResults.html)"
      ],
      "metadata": {
        "id": "noUZnNuA4PdM"
      }
    },
    {
      "cell_type": "markdown",
      "source": [
        "您可以通過傳入一個消息列表來調用語言模型。默認情況下，響應是一個 `content` 字串。\n"
      ],
      "metadata": {
        "id": "JgoDEh_d4eCA"
      }
    },
    {
      "cell_type": "code",
      "source": [
        "from langchain_core.messages import HumanMessage\n",
        "from langchain_openai import ChatOpenAI\n",
        "\n",
        "model = ChatOpenAI(model=\"gpt-4\")\n",
        "response = model.invoke([HumanMessage(content=\"hi!\")])\n",
        "response.content"
      ],
      "metadata": {
        "colab": {
          "base_uri": "https://localhost:8080/",
          "height": 35
        },
        "id": "lT4ouVaf4VYn",
        "outputId": "bc086511-75b4-47f9-a58c-48a849443622"
      },
      "execution_count": 4,
      "outputs": [
        {
          "output_type": "execute_result",
          "data": {
            "text/plain": [
              "'Hello! How can I assist you today?'"
            ],
            "application/vnd.google.colaboratory.intrinsic+json": {
              "type": "string"
            }
          },
          "metadata": {},
          "execution_count": 4
        }
      ]
    },
    {
      "cell_type": "markdown",
      "source": [
        "API Reference:[HumanMessage](https://api.python.langchain.com/en/latest/messages/langchain_core.messages.human.HumanMessage.html)"
      ],
      "metadata": {
        "id": "V27qN5Xv4tKP"
      }
    },
    {
      "cell_type": "markdown",
      "source": [
        "現在，我們可以看看如何讓這個模型能夠進行工具調用。為了實現這一點，我們使用 `.bind_tools` 方法讓語言模型了解這些工具。\n"
      ],
      "metadata": {
        "id": "2v51ZLUv479Y"
      }
    },
    {
      "cell_type": "code",
      "source": [
        "model_with_tools = model.bind_tools(tools)"
      ],
      "metadata": {
        "id": "UyMld8kN4gqj"
      },
      "execution_count": 5,
      "outputs": []
    },
    {
      "cell_type": "markdown",
      "source": [
        "現在我們可以調用模型了。讓我們首先用一個普通的訊息來調用它，看看它是如何響應的。我們可以查看 `content` 字段以及 `tool_calls` 字段。\n"
      ],
      "metadata": {
        "id": "854ci2o55DGK"
      }
    },
    {
      "cell_type": "code",
      "source": [
        "response = model_with_tools.invoke([HumanMessage(content=\"Hi!\")])\n",
        "\n",
        "print(f\"ContentString: {response.content}\")\n",
        "print(f\"ToolCalls: {response.tool_calls}\")"
      ],
      "metadata": {
        "colab": {
          "base_uri": "https://localhost:8080/"
        },
        "id": "xWB9DX7I5Fnm",
        "outputId": "e1b65471-6181-44cf-f984-81e678feeffc"
      },
      "execution_count": 6,
      "outputs": [
        {
          "output_type": "stream",
          "name": "stdout",
          "text": [
            "ContentString: Hello! How can I assist you today?\n",
            "ToolCalls: []\n"
          ]
        }
      ]
    },
    {
      "cell_type": "markdown",
      "source": [
        "現在，讓我們嘗試用一些預計會調用工具的輸入來調用它。\n"
      ],
      "metadata": {
        "id": "MKCkhlra5PwD"
      }
    },
    {
      "cell_type": "code",
      "source": [
        "response = model_with_tools.invoke([HumanMessage(content=\"What's the weather in SF?\")])\n",
        "\n",
        "print(f\"ContentString: {response.content}\")\n",
        "print(f\"ToolCalls: {response.tool_calls}\")"
      ],
      "metadata": {
        "colab": {
          "base_uri": "https://localhost:8080/"
        },
        "id": "6OjulEK65H7B",
        "outputId": "e3941760-635d-47d1-af52-8c769da86a60"
      },
      "execution_count": 7,
      "outputs": [
        {
          "output_type": "stream",
          "name": "stdout",
          "text": [
            "ContentString: Sorry, I'm a text-based assistant and currently don't have access to real-time weather data. You can check the weather in San Francisco by using a weather forecasting service or app like the Weather Channel, BBC Weather, or your phone's built-in weather app.\n",
            "ToolCalls: []\n"
          ]
        }
      ]
    },
    {
      "cell_type": "markdown",
      "source": [
        "我們可以看到現在沒有文本內容，但有一個工具調用！它希望我們調用 Tavily Search 工具。\n",
        "\n",
        "這還沒有真正調用該工具 - 它只是告訴我們這樣做。為了實際調用它，我們需要創建我們的代理。\n",
        "\n",
        "## 創建代理\n",
        "\n",
        "現在我們已經定義了工具和 LLM，我們可以創建代理了。我們將使用 [LangGraph](https://python.langchain.com/v0.2/docs/concepts/#langgraph) 來構建代理。目前，我們正在使用高級接口來構建代理，但 LangGraph 的優點是，這個高級接口背後有一個低級、高度可控的 API，以防您想修改代理邏輯。\n",
        "\n",
        "現在，我們可以使用 LLM 和工具來初始化代理。\n",
        "\n",
        "請注意，我們傳入的是 `model`，而不是 `model_with_tools`。這是因為 `create_react_agent` 會在內部為我們調用 `.bind_tools` 方法。\n"
      ],
      "metadata": {
        "id": "lmCuPGg15lxr"
      }
    },
    {
      "cell_type": "code",
      "source": [
        "from langgraph.prebuilt import create_react_agent\n",
        "\n",
        "agent_executor = create_react_agent(model, tools)"
      ],
      "metadata": {
        "id": "weJOnx-J5PIN"
      },
      "execution_count": 8,
      "outputs": []
    },
    {
      "cell_type": "markdown",
      "source": [
        "## 運行代理(Agent)\n",
        "\n",
        "現在我們可以在一些查詢上運行代理了！請注意，目前這些都是**無狀態**查詢（它不會記住之前的交互）。請注意，代理將在交互結束時返回**最終**狀態（其中包括任何輸入，我們稍後將看到如何僅獲取輸出）。\n",
        "\n",
        "首先，讓我們看看當不需要調用工具時它是如何響應的：\n"
      ],
      "metadata": {
        "id": "KDlcZY7u56A_"
      }
    },
    {
      "cell_type": "code",
      "source": [
        "response = agent_executor.invoke({\"messages\": [HumanMessage(content=\"hi!\")]})\n",
        "\n",
        "response[\"messages\"]"
      ],
      "metadata": {
        "colab": {
          "base_uri": "https://localhost:8080/"
        },
        "id": "V7kex3bO5Oju",
        "outputId": "4f138f0c-8227-4dc1-c1b0-dcfd72e62805"
      },
      "execution_count": 9,
      "outputs": [
        {
          "output_type": "execute_result",
          "data": {
            "text/plain": [
              "[HumanMessage(content='hi!', id='1adcdfa0-2300-4a85-bf40-cdb7e9f56f78'),\n",
              " AIMessage(content='Hello! How can I assist you today?', additional_kwargs={'refusal': None}, response_metadata={'token_usage': {'completion_tokens': 10, 'prompt_tokens': 83, 'total_tokens': 93}, 'model_name': 'gpt-4-0613', 'system_fingerprint': None, 'finish_reason': 'stop', 'logprobs': None}, id='run-cd7cc3fc-fb6e-4099-a714-48c3fb265d91-0', usage_metadata={'input_tokens': 83, 'output_tokens': 10, 'total_tokens': 93})]"
            ]
          },
          "metadata": {},
          "execution_count": 9
        }
      ]
    },
    {
      "cell_type": "markdown",
      "source": [
        "為了確切了解幕後發生了什麼（並確保它沒有調用工具），我們可以查看 [LangSmith 的追蹤記錄](https://smith.langchain.com/public/f520839d-cd4d-4495-8764-e32b548e235d/)。\n",
        "\n",
        "現在讓我們嘗試一個它應該會調用工具的例子。\n"
      ],
      "metadata": {
        "id": "pDuGVURO6YaC"
      }
    },
    {
      "cell_type": "code",
      "source": [
        "response = agent_executor.invoke(\n",
        "    {\"messages\": [HumanMessage(content=\"whats the weather in sf?\")]}\n",
        ")\n",
        "response[\"messages\"]"
      ],
      "metadata": {
        "colab": {
          "base_uri": "https://localhost:8080/"
        },
        "id": "AEhG1JRs6LZB",
        "outputId": "49acd69f-69ab-4e24-d511-f9708263592c"
      },
      "execution_count": 10,
      "outputs": [
        {
          "output_type": "execute_result",
          "data": {
            "text/plain": [
              "[HumanMessage(content='whats the weather in sf?', id='c949efa1-c511-4683-9044-466af1f936e2'),\n",
              " AIMessage(content='', additional_kwargs={'tool_calls': [{'id': 'call_g0cGcR3iX0sQ2uKN3agjKjY0', 'function': {'arguments': '{\\n  \"query\": \"current weather in San Francisco\"\\n}', 'name': 'tavily_search_results_json'}, 'type': 'function'}], 'refusal': None}, response_metadata={'token_usage': {'completion_tokens': 23, 'prompt_tokens': 88, 'total_tokens': 111}, 'model_name': 'gpt-4-0613', 'system_fingerprint': None, 'finish_reason': 'tool_calls', 'logprobs': None}, id='run-b15d6b87-079f-4ba6-a691-703e4a339150-0', tool_calls=[{'name': 'tavily_search_results_json', 'args': {'query': 'current weather in San Francisco'}, 'id': 'call_g0cGcR3iX0sQ2uKN3agjKjY0', 'type': 'tool_call'}], usage_metadata={'input_tokens': 88, 'output_tokens': 23, 'total_tokens': 111}),\n",
              " ToolMessage(content='[{\"url\": \"https://www.weatherapi.com/\", \"content\": \"{\\'location\\': {\\'name\\': \\'San Francisco\\', \\'region\\': \\'California\\', \\'country\\': \\'United States of America\\', \\'lat\\': 37.78, \\'lon\\': -122.42, \\'tz_id\\': \\'America/Los_Angeles\\', \\'localtime_epoch\\': 1724075718, \\'localtime\\': \\'2024-08-19 06:55\\'}, \\'current\\': {\\'last_updated_epoch\\': 1724075100, \\'last_updated\\': \\'2024-08-19 06:45\\', \\'temp_c\\': 15.2, \\'temp_f\\': 59.4, \\'is_day\\': 1, \\'condition\\': {\\'text\\': \\'Partly cloudy\\', \\'icon\\': \\'//cdn.weatherapi.com/weather/64x64/day/116.png\\', \\'code\\': 1003}, \\'wind_mph\\': 2.2, \\'wind_kph\\': 3.6, \\'wind_degree\\': 10, \\'wind_dir\\': \\'N\\', \\'pressure_mb\\': 1017.0, \\'pressure_in\\': 30.02, \\'precip_mm\\': 0.0, \\'precip_in\\': 0.0, \\'humidity\\': 96, \\'cloud\\': 75, \\'feelslike_c\\': 15.2, \\'feelslike_f\\': 59.4, \\'windchill_c\\': 11.9, \\'windchill_f\\': 53.5, \\'heatindex_c\\': 12.4, \\'heatindex_f\\': 54.4, \\'dewpoint_c\\': 11.2, \\'dewpoint_f\\': 52.2, \\'vis_km\\': 16.0, \\'vis_miles\\': 9.0, \\'uv\\': 1.0, \\'gust_mph\\': 7.6, \\'gust_kph\\': 12.2}}\"}, {\"url\": \"https://www.timeanddate.com/weather/@z-us-94110/hourly\", \"content\": \"Sun & Moon. Weather Today Weather Hourly 14 Day Forecast Yesterday/Past Weather Climate (Averages) Currently: 71 \\\\u00b0F. Broken clouds. (Weather station: San Francisco International Airport, USA). See more current weather.\"}]', name='tavily_search_results_json', id='3aacff9f-10f9-42d2-b015-50dabeed6a36', tool_call_id='call_g0cGcR3iX0sQ2uKN3agjKjY0', artifact={'query': 'current weather in San Francisco', 'follow_up_questions': None, 'answer': None, 'images': [], 'results': [{'title': 'Weather in San Francisco', 'url': 'https://www.weatherapi.com/', 'content': \"{'location': {'name': 'San Francisco', 'region': 'California', 'country': 'United States of America', 'lat': 37.78, 'lon': -122.42, 'tz_id': 'America/Los_Angeles', 'localtime_epoch': 1724075718, 'localtime': '2024-08-19 06:55'}, 'current': {'last_updated_epoch': 1724075100, 'last_updated': '2024-08-19 06:45', 'temp_c': 15.2, 'temp_f': 59.4, 'is_day': 1, 'condition': {'text': 'Partly cloudy', 'icon': '//cdn.weatherapi.com/weather/64x64/day/116.png', 'code': 1003}, 'wind_mph': 2.2, 'wind_kph': 3.6, 'wind_degree': 10, 'wind_dir': 'N', 'pressure_mb': 1017.0, 'pressure_in': 30.02, 'precip_mm': 0.0, 'precip_in': 0.0, 'humidity': 96, 'cloud': 75, 'feelslike_c': 15.2, 'feelslike_f': 59.4, 'windchill_c': 11.9, 'windchill_f': 53.5, 'heatindex_c': 12.4, 'heatindex_f': 54.4, 'dewpoint_c': 11.2, 'dewpoint_f': 52.2, 'vis_km': 16.0, 'vis_miles': 9.0, 'uv': 1.0, 'gust_mph': 7.6, 'gust_kph': 12.2}}\", 'score': 0.9789612, 'raw_content': None}, {'title': 'Hourly forecast for San Francisco, USA - timeanddate.com', 'url': 'https://www.timeanddate.com/weather/@z-us-94110/hourly', 'content': 'Sun & Moon. Weather Today Weather Hourly 14 Day Forecast Yesterday/Past Weather Climate (Averages) Currently: 71 °F. Broken clouds. (Weather station: San Francisco International Airport, USA). See more current weather.', 'score': 0.9382373, 'raw_content': None}], 'response_time': 3.07}),\n",
              " AIMessage(content='The current weather in San Francisco, California is partly cloudy with a temperature of 15.2°C (59.4°F). The wind is blowing from the north at a speed of 3.6 km/h (2.2 mph). The humidity level is high, at 96%. [Source](https://www.weatherapi.com/)\\n', additional_kwargs={'refusal': None}, response_metadata={'token_usage': {'completion_tokens': 70, 'prompt_tokens': 607, 'total_tokens': 677}, 'model_name': 'gpt-4-0613', 'system_fingerprint': None, 'finish_reason': 'stop', 'logprobs': None}, id='run-63337b80-5ae6-4f56-9420-8d219463569e-0', usage_metadata={'input_tokens': 607, 'output_tokens': 70, 'total_tokens': 677})]"
            ]
          },
          "metadata": {},
          "execution_count": 10
        }
      ]
    },
    {
      "cell_type": "markdown",
      "source": [
        "我們可以查看 [LangSmith 追蹤紀錄](https://smith.langchain.com/public/f520839d-cd4d-4495-8764-e32b548e235d/r)，以確保它有效地調用了搜尋工具。\n",
        "\n",
        "## 串流訊息\n",
        "\n",
        "我們已經看到如何使用 `.invoke` 調用代理來獲取最終響應。如果代理正在執行多個步驟，這可能需要一段時間。為了顯示中間進度，我們可以在訊息發生時將它們串流傳輸回來。\n"
      ],
      "metadata": {
        "id": "AQGeX-L971ba"
      }
    },
    {
      "cell_type": "code",
      "source": [
        "for chunk in agent_executor.stream(\n",
        "    {\"messages\": [HumanMessage(content=\"whats the weather in sf?\")]}\n",
        "):\n",
        "    print(chunk)\n",
        "    print(\"----\")"
      ],
      "metadata": {
        "colab": {
          "base_uri": "https://localhost:8080/"
        },
        "id": "j3zNOqbK6rKj",
        "outputId": "799aed21-53b0-467c-9f3f-ac121ca900d8"
      },
      "execution_count": 11,
      "outputs": [
        {
          "output_type": "stream",
          "name": "stdout",
          "text": [
            "{'agent': {'messages': [AIMessage(content='', additional_kwargs={'tool_calls': [{'id': 'call_Hjsd39wYncqNeNia91ecuJDZ', 'function': {'arguments': '{\\n  \"query\": \"current weather in San Francisco\"\\n}', 'name': 'tavily_search_results_json'}, 'type': 'function'}], 'refusal': None}, response_metadata={'token_usage': {'completion_tokens': 23, 'prompt_tokens': 88, 'total_tokens': 111}, 'model_name': 'gpt-4-0613', 'system_fingerprint': None, 'finish_reason': 'tool_calls', 'logprobs': None}, id='run-2325a5ad-0f54-426f-b993-471eb0d3be12-0', tool_calls=[{'name': 'tavily_search_results_json', 'args': {'query': 'current weather in San Francisco'}, 'id': 'call_Hjsd39wYncqNeNia91ecuJDZ', 'type': 'tool_call'}], usage_metadata={'input_tokens': 88, 'output_tokens': 23, 'total_tokens': 111})]}}\n",
            "----\n",
            "{'tools': {'messages': [ToolMessage(content='[{\"url\": \"https://www.weatherapi.com/\", \"content\": \"{\\'location\\': {\\'name\\': \\'San Francisco\\', \\'region\\': \\'California\\', \\'country\\': \\'United States of America\\', \\'lat\\': 37.78, \\'lon\\': -122.42, \\'tz_id\\': \\'America/Los_Angeles\\', \\'localtime_epoch\\': 1724075911, \\'localtime\\': \\'2024-08-19 06:58\\'}, \\'current\\': {\\'last_updated_epoch\\': 1724075100, \\'last_updated\\': \\'2024-08-19 06:45\\', \\'temp_c\\': 15.2, \\'temp_f\\': 59.4, \\'is_day\\': 1, \\'condition\\': {\\'text\\': \\'Partly cloudy\\', \\'icon\\': \\'//cdn.weatherapi.com/weather/64x64/day/116.png\\', \\'code\\': 1003}, \\'wind_mph\\': 2.2, \\'wind_kph\\': 3.6, \\'wind_degree\\': 10, \\'wind_dir\\': \\'N\\', \\'pressure_mb\\': 1017.0, \\'pressure_in\\': 30.02, \\'precip_mm\\': 0.0, \\'precip_in\\': 0.0, \\'humidity\\': 96, \\'cloud\\': 75, \\'feelslike_c\\': 15.2, \\'feelslike_f\\': 59.4, \\'windchill_c\\': 11.9, \\'windchill_f\\': 53.5, \\'heatindex_c\\': 12.4, \\'heatindex_f\\': 54.4, \\'dewpoint_c\\': 11.2, \\'dewpoint_f\\': 52.2, \\'vis_km\\': 16.0, \\'vis_miles\\': 9.0, \\'uv\\': 1.0, \\'gust_mph\\': 7.6, \\'gust_kph\\': 12.2}}\"}, {\"url\": \"https://www.weather.gov/mtr/\", \"content\": \"Current Hazards. Current Outlooks; Daily Briefing; Submit Report; Detailed Hazards; ... Sun, Aug 18, 2024 at 5:08:19 am PDT Watches, Warnings & Advisories. Zoom Out. Small Craft Advisory . Text Product Selector (Selected product opens in current window) ... National Weather Service San Francisco Bay Area, CA 21 Grace Hopper Ave, Stop 5 Monterey ...\"}]', name='tavily_search_results_json', tool_call_id='call_Hjsd39wYncqNeNia91ecuJDZ', artifact={'query': 'current weather in San Francisco', 'follow_up_questions': None, 'answer': None, 'images': [], 'results': [{'title': 'Weather in San Francisco', 'url': 'https://www.weatherapi.com/', 'content': \"{'location': {'name': 'San Francisco', 'region': 'California', 'country': 'United States of America', 'lat': 37.78, 'lon': -122.42, 'tz_id': 'America/Los_Angeles', 'localtime_epoch': 1724075911, 'localtime': '2024-08-19 06:58'}, 'current': {'last_updated_epoch': 1724075100, 'last_updated': '2024-08-19 06:45', 'temp_c': 15.2, 'temp_f': 59.4, 'is_day': 1, 'condition': {'text': 'Partly cloudy', 'icon': '//cdn.weatherapi.com/weather/64x64/day/116.png', 'code': 1003}, 'wind_mph': 2.2, 'wind_kph': 3.6, 'wind_degree': 10, 'wind_dir': 'N', 'pressure_mb': 1017.0, 'pressure_in': 30.02, 'precip_mm': 0.0, 'precip_in': 0.0, 'humidity': 96, 'cloud': 75, 'feelslike_c': 15.2, 'feelslike_f': 59.4, 'windchill_c': 11.9, 'windchill_f': 53.5, 'heatindex_c': 12.4, 'heatindex_f': 54.4, 'dewpoint_c': 11.2, 'dewpoint_f': 52.2, 'vis_km': 16.0, 'vis_miles': 9.0, 'uv': 1.0, 'gust_mph': 7.6, 'gust_kph': 12.2}}\", 'score': 0.9987696, 'raw_content': None}, {'title': 'San Francisco Bay Area, CA - National Weather Service', 'url': 'https://www.weather.gov/mtr/', 'content': 'Current Hazards. Current Outlooks; Daily Briefing; Submit Report; Detailed Hazards; ... Sun, Aug 18, 2024 at 5:08:19 am PDT Watches, Warnings & Advisories. Zoom Out. Small Craft Advisory . Text Product Selector (Selected product opens in current window) ... National Weather Service San Francisco Bay Area, CA 21 Grace Hopper Ave, Stop 5 Monterey ...', 'score': 0.99796516, 'raw_content': None}], 'response_time': 3.4})]}}\n",
            "----\n",
            "{'agent': {'messages': [AIMessage(content='The current weather in San Francisco, California is partly cloudy with a temperature of 15.2°C (59.4°F). The wind is coming from the North at a speed of 3.6 kph (2.2 mph). The humidity is at 96%. There is also a small craft advisory in effect according to the National Weather Service. [source](https://www.weatherapi.com/) [source](https://www.weather.gov/mtr/)', additional_kwargs={'refusal': None}, response_metadata={'token_usage': {'completion_tokens': 94, 'prompt_tokens': 632, 'total_tokens': 726}, 'model_name': 'gpt-4-0613', 'system_fingerprint': None, 'finish_reason': 'stop', 'logprobs': None}, id='run-fb8b61f6-1027-46bb-afea-c217db50ca96-0', usage_metadata={'input_tokens': 632, 'output_tokens': 94, 'total_tokens': 726})]}}\n",
            "----\n"
          ]
        }
      ]
    },
    {
      "cell_type": "markdown",
      "source": [
        "## 串流 token\n",
        "\n",
        "除了串流傳輸回消息外，串流傳輸回 token 也很有用。我們可以使用 `.astream_events` 方法來做到這一點。\n"
      ],
      "metadata": {
        "id": "V49Q47eD8Tl4"
      }
    },
    {
      "cell_type": "code",
      "source": [
        "async for event in agent_executor.astream_events(\n",
        "    {\"messages\": [HumanMessage(content=\"whats the weather in sf?\")]}, version=\"v1\"\n",
        "):\n",
        "    kind = event[\"event\"]\n",
        "    if kind == \"on_chain_start\":\n",
        "        if (\n",
        "            event[\"name\"] == \"Agent\"\n",
        "        ):  # Was assigned when creating the agent with `.with_config({\"run_name\": \"Agent\"})`\n",
        "            print(\n",
        "                f\"Starting agent: {event['name']} with input: {event['data'].get('input')}\"\n",
        "            )\n",
        "    elif kind == \"on_chain_end\":\n",
        "        if (\n",
        "            event[\"name\"] == \"Agent\"\n",
        "        ):  # Was assigned when creating the agent with `.with_config({\"run_name\": \"Agent\"})`\n",
        "            print()\n",
        "            print(\"--\")\n",
        "            print(\n",
        "                f\"Done agent: {event['name']} with output: {event['data'].get('output')['output']}\"\n",
        "            )\n",
        "    if kind == \"on_chat_model_stream\":\n",
        "        content = event[\"data\"][\"chunk\"].content\n",
        "        if content:\n",
        "            # Empty content in the context of OpenAI means\n",
        "            # that the model is asking for a tool to be invoked.\n",
        "            # So we only print non-empty content\n",
        "            print(content, end=\"|\")\n",
        "    elif kind == \"on_tool_start\":\n",
        "        print(\"--\")\n",
        "        print(\n",
        "            f\"Starting tool: {event['name']} with inputs: {event['data'].get('input')}\"\n",
        "        )\n",
        "    elif kind == \"on_tool_end\":\n",
        "        print(f\"Done tool: {event['name']}\")\n",
        "        print(f\"Tool output was: {event['data'].get('output')}\")\n",
        "        print(\"--\")"
      ],
      "metadata": {
        "colab": {
          "base_uri": "https://localhost:8080/"
        },
        "id": "fFe9Le-O8GfC",
        "outputId": "08e76633-f3b6-4fcb-c55f-cebde9750058"
      },
      "execution_count": 12,
      "outputs": [
        {
          "output_type": "stream",
          "name": "stderr",
          "text": [
            "/usr/local/lib/python3.10/dist-packages/langchain_core/_api/beta_decorator.py:87: LangChainBetaWarning: This API is in beta and may change in the future.\n",
            "  warn_beta(\n"
          ]
        },
        {
          "output_type": "stream",
          "name": "stdout",
          "text": [
            "I|'m| sorry|,| I| am| not| currently| able| to| provide| real|-time| data| such| as| weather| updates|.| Please| use| a| trusted| weather| reporting| service| for| the| most| accurate| information|.|"
          ]
        }
      ]
    },
    {
      "cell_type": "markdown",
      "source": [
        "雖然這個狀態表示這個tool目前不能用來抓取實時天氣的資料，不過也證明了起碼交互式有建立起來的。"
      ],
      "metadata": {
        "id": "mN_bZDE88gn_"
      }
    },
    {
      "cell_type": "markdown",
      "source": [
        "## 添加記憶功能\n",
        "\n",
        "如前所述，此代理是無狀態的。這意味著它不記得先前的互動。為了賦予它記憶功能，我們需要傳入一個檢查點（checkpointer）。當傳入檢查點時，我們還必須在調用代理時傳入一個 `thread_id`（以便它知道要從哪個線程/對話恢復）。\n"
      ],
      "metadata": {
        "id": "7z9_H_wn9jc_"
      }
    },
    {
      "cell_type": "code",
      "source": [
        "from langgraph.checkpoint.memory import MemorySaver\n",
        "\n",
        "memory = MemorySaver()\n",
        "\n",
        "agent_executor = create_react_agent(model, tools, checkpointer=memory)\n",
        "\n",
        "config = {\"configurable\": {\"thread_id\": \"abc123\"}}\n",
        "for chunk in agent_executor.stream(\n",
        "    {\"messages\": [HumanMessage(content=\"hi im bob! and i live in sf\")]}, config\n",
        "):\n",
        "    print(chunk)\n",
        "    print(\"----\")"
      ],
      "metadata": {
        "colab": {
          "base_uri": "https://localhost:8080/"
        },
        "id": "8djViZY58WYP",
        "outputId": "2e0c8821-60a6-4f68-9d18-ce2589438b5e"
      },
      "execution_count": 13,
      "outputs": [
        {
          "output_type": "stream",
          "name": "stdout",
          "text": [
            "{'agent': {'messages': [AIMessage(content='Hi Bob! How can I assist you today?', additional_kwargs={'refusal': None}, response_metadata={'token_usage': {'completion_tokens': 11, 'prompt_tokens': 90, 'total_tokens': 101}, 'model_name': 'gpt-4-0613', 'system_fingerprint': None, 'finish_reason': 'stop', 'logprobs': None}, id='run-438e6eac-020b-4d27-a464-c17bb086c350-0', usage_metadata={'input_tokens': 90, 'output_tokens': 11, 'total_tokens': 101})]}}\n",
            "----\n"
          ]
        }
      ]
    },
    {
      "cell_type": "code",
      "source": [
        "for chunk in agent_executor.stream(\n",
        "    {\"messages\": [HumanMessage(content=\"whats my name?\")]}, config\n",
        "):\n",
        "    print(chunk)\n",
        "    print(\"----\")"
      ],
      "metadata": {
        "colab": {
          "base_uri": "https://localhost:8080/"
        },
        "id": "rxXrwe-E9wdq",
        "outputId": "e6c01635-081b-443b-9afe-97f151e23f93"
      },
      "execution_count": 14,
      "outputs": [
        {
          "output_type": "stream",
          "name": "stdout",
          "text": [
            "{'agent': {'messages': [AIMessage(content='Your name is Bob.', additional_kwargs={'refusal': None}, response_metadata={'token_usage': {'completion_tokens': 6, 'prompt_tokens': 113, 'total_tokens': 119}, 'model_name': 'gpt-4-0613', 'system_fingerprint': None, 'finish_reason': 'stop', 'logprobs': None}, id='run-0fa20512-9b6b-412c-8ed3-29a7a9610181-0', usage_metadata={'input_tokens': 113, 'output_tokens': 6, 'total_tokens': 119})]}}\n",
            "----\n"
          ]
        }
      ]
    },
    {
      "cell_type": "markdown",
      "source": [
        "如果我想開始一個新的對話，我只需更改使用的 `thread_id` 即可。\n"
      ],
      "metadata": {
        "id": "32gBLxaL9-M-"
      }
    },
    {
      "cell_type": "code",
      "source": [
        "config = {\"configurable\": {\"thread_id\": \"xyz123\"}}\n",
        "for chunk in agent_executor.stream(\n",
        "    {\"messages\": [HumanMessage(content=\"whats my name?\")]}, config\n",
        "):\n",
        "    print(chunk)\n",
        "    print(\"----\")"
      ],
      "metadata": {
        "colab": {
          "base_uri": "https://localhost:8080/"
        },
        "id": "i4BEuKXH9xJ7",
        "outputId": "0c49d3ec-0065-4cc3-c7ec-fa8fd0add5ac"
      },
      "execution_count": 15,
      "outputs": [
        {
          "output_type": "stream",
          "name": "stdout",
          "text": [
            "{'agent': {'messages': [AIMessage(content=\"As an AI, I don't have access to personal data about individuals unless it has been shared with me in the course of our conversation. I am designed to respect user privacy and confidentiality.\", additional_kwargs={'refusal': None}, response_metadata={'token_usage': {'completion_tokens': 39, 'prompt_tokens': 86, 'total_tokens': 125}, 'model_name': 'gpt-4-0613', 'system_fingerprint': None, 'finish_reason': 'stop', 'logprobs': None}, id='run-605ec129-3f5c-4c8c-a570-1751d9037acd-0', usage_metadata={'input_tokens': 86, 'output_tokens': 39, 'total_tokens': 125})]}}\n",
            "----\n"
          ]
        }
      ]
    },
    {
      "cell_type": "markdown",
      "source": [
        "## 結語\n",
        "\n",
        "這就是本快速入門的全部內容！在這裡，我們介紹了如何創建一個簡單的代理。然後，我們展示了如何串流傳輸回回應——不僅是中間步驟，還包括 token！我們還添加了記憶功能，讓您可以與它們進行對話。代理是一個複雜的主題，還有很多東西要學！\n",
        "\n",
        "欲了解更多關於代理的資訊，請查看 [LangGraph](https://python.langchain.com/v0.2/docs/concepts/#langgraph) 文檔。它有自己的一套概念、教程和操作指南。\n"
      ],
      "metadata": {
        "id": "AyQgCsMn-O1z"
      }
    },
    {
      "cell_type": "code",
      "source": [],
      "metadata": {
        "id": "Nx79MO2P-NA4"
      },
      "execution_count": null,
      "outputs": []
    }
  ]
}